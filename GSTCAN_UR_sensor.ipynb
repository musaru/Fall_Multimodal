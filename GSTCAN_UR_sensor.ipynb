{
 "cells": [
  {
   "cell_type": "code",
   "execution_count": 29,
   "id": "23be85de-dd44-4622-9ab9-96f0fd911dc3",
   "metadata": {},
   "outputs": [],
   "source": [
    "CUDA_LAUNCH_BLOCKING=1"
   ]
  },
  {
   "cell_type": "code",
   "execution_count": 30,
   "id": "bd06fdb2-e6b0-4799-81db-a5efcca7763b",
   "metadata": {},
   "outputs": [],
   "source": [
    "import numpy as np\n",
    "import torch\n",
    "import torch.nn as nn\n",
    "import torch.nn.functional as F\n",
    "import warnings\n",
    "import copy\n",
    "#\n",
    "import os\n",
    "import torch\n",
    "import numpy as np\n",
    "\n",
    "\n",
    "class Graph:\n",
    "    \"\"\"The Graph to model the skeletons extracted by the Alpha-Pose.\n",
    "    Args:\n",
    "        - strategy: (string) must be one of the follow candidates\n",
    "            - uniform: Uniform Labeling,\n",
    "            - distance: Distance Partitioning,\n",
    "            - spatial: Spatial Configuration,\n",
    "        For more information, please refer to the section 'Partition Strategies'\n",
    "            in our paper (https://arxiv.org/abs/1801.07455).\n",
    "        - layout: (string) must be one of the follow candidates\n",
    "            - coco_cut: Is COCO format but cut 4 joints (L-R ears, L-R eyes) out.\n",
    "        - max_hop: (int) the maximal distance between two connected nodes.\n",
    "        - dilation: (int) controls the spacing between the kernel points.\n",
    "    \"\"\"\n",
    "    def __init__(self,\n",
    "                 layout='coco_cut',\n",
    "                 strategy='uniform',\n",
    "                 max_hop=1,\n",
    "                 dilation=1):\n",
    "        self.max_hop = max_hop\n",
    "        self.dilation = dilation\n",
    "\n",
    "        self.get_edge(layout)\n",
    "        self.hop_dis = get_hop_distance(self.num_node, self.edge, max_hop)\n",
    "        self.get_adjacency(strategy)\n",
    "\n",
    "    def get_edge(self, layout):\n",
    "        if layout == 'coco_cut':\n",
    "            self.num_node = 14\n",
    "            self_link = [(i, i) for i in range(self.num_node)]\n",
    "            neighbor_link = [(6, 4), (4, 2), (2, 13), (13, 1), (5, 3), (3, 1), (12, 10),\n",
    "                             (10, 8), (8, 2), (11, 9), (9, 7), (7, 1), (13, 0)]\n",
    "            self.edge = self_link + neighbor_link\n",
    "            self.center = 13\n",
    "        else:\n",
    "            raise ValueError('This layout is not supported!')\n",
    "\n",
    "    def get_adjacency(self, strategy):\n",
    "        valid_hop = range(0, self.max_hop + 1, self.dilation)\n",
    "        adjacency = np.zeros((self.num_node, self.num_node))\n",
    "        for hop in valid_hop:\n",
    "            adjacency[self.hop_dis == hop] = 1\n",
    "        normalize_adjacency = normalize_digraph(adjacency)\n",
    "\n",
    "        if strategy == 'uniform':\n",
    "            A = np.zeros((1, self.num_node, self.num_node))\n",
    "            A[0] = normalize_adjacency\n",
    "            self.A = A\n",
    "        elif strategy == 'distance':\n",
    "            A = np.zeros((len(valid_hop), self.num_node, self.num_node))\n",
    "            for i, hop in enumerate(valid_hop):\n",
    "                A[i][self.hop_dis == hop] = normalize_adjacency[self.hop_dis ==\n",
    "                                                                hop]\n",
    "            self.A = A\n",
    "        elif strategy == 'spatial':\n",
    "            A = []\n",
    "            for hop in valid_hop:\n",
    "                a_root = np.zeros((self.num_node, self.num_node))\n",
    "                a_close = np.zeros((self.num_node, self.num_node))\n",
    "                a_further = np.zeros((self.num_node, self.num_node))\n",
    "                for i in range(self.num_node):\n",
    "                    for j in range(self.num_node):\n",
    "                        if self.hop_dis[j, i] == hop:\n",
    "                            if self.hop_dis[j, self.center] == self.hop_dis[i, self.center]:\n",
    "                                a_root[j, i] = normalize_adjacency[j, i]\n",
    "                            elif self.hop_dis[j, self.center] > self.hop_dis[i, self.center]:\n",
    "                                a_close[j, i] = normalize_adjacency[j, i]\n",
    "                            else:\n",
    "                                a_further[j, i] = normalize_adjacency[j, i]\n",
    "                if hop == 0:\n",
    "                    A.append(a_root)\n",
    "                else:\n",
    "                    A.append(a_root + a_close)\n",
    "                    A.append(a_further)\n",
    "            A = np.stack(A)\n",
    "            self.A = A\n",
    "            #self.A = np.swapaxes(np.swapaxes(A, 0, 1), 1, 2)\n",
    "        else:\n",
    "            raise ValueError(\"This strategy is not supported!\")\n",
    "\n",
    "\n",
    "def get_hop_distance(num_node, edge, max_hop=1):\n",
    "    A = np.zeros((num_node, num_node))\n",
    "    for i, j in edge:\n",
    "        A[j, i] = 1\n",
    "        A[i, j] = 1\n",
    "\n",
    "    # compute hop steps\n",
    "    hop_dis = np.zeros((num_node, num_node)) + np.inf\n",
    "    transfer_mat = [np.linalg.matrix_power(A, d) for d in range(max_hop + 1)]\n",
    "    arrive_mat = (np.stack(transfer_mat) > 0)\n",
    "    for d in range(max_hop, -1, -1):\n",
    "        hop_dis[arrive_mat[d]] = d\n",
    "    return hop_dis\n",
    "\n",
    "\n",
    "def normalize_digraph(A):\n",
    "    Dl = np.sum(A, 0)\n",
    "    num_node = A.shape[0]\n",
    "    Dn = np.zeros((num_node, num_node))\n",
    "    for i in range(num_node):\n",
    "        if Dl[i] > 0:\n",
    "            Dn[i, i] = Dl[i]**(-1)\n",
    "    AD = np.dot(A, Dn)\n",
    "    return AD\n",
    "\n",
    "\n",
    "def normalize_undigraph(A):\n",
    "    Dl = np.sum(A, 0)\n",
    "    num_node = A.shape[0]\n",
    "    Dn = np.zeros((num_node, num_node))\n",
    "    for i in range(num_node):\n",
    "        if Dl[i] > 0:\n",
    "            Dn[i, i] = Dl[i]**(-0.5)\n",
    "    DAD = np.dot(np.dot(Dn, A), Dn)\n",
    "    return DAD\n",
    "\n",
    "import torch\n",
    "import torch.nn as nn\n",
    "import torch.nn.functional as F\n",
    "import numpy as np\n",
    "\n",
    "class GraphConvolution(nn.Module):\n",
    "    \"\"\"The basic module for applying a graph convolution.\n",
    "    Args:\n",
    "        - in_channel: (int) Number of channels in the input sequence data.\n",
    "        - out_channels: (int) Number of channels produced by the convolution.\n",
    "        - kernel_size: (int) Size of the graph convolving kernel.\n",
    "        - t_kernel_size: (int) Size of the temporal convolving kernel.\n",
    "        - t_stride: (int, optional) Stride of the temporal convolution. Default: 1\n",
    "        - t_padding: (int, optional) Temporal zero-padding added to both sides of\n",
    "            the input. Default: 0\n",
    "        - t_dilation: (int, optional) Spacing between temporal kernel elements. Default: 1\n",
    "        - bias: (bool, optional) If `True`, adds a learnable bias to the output.\n",
    "            Default: `True`\n",
    "    Shape:\n",
    "        - Inputs x: Graph sequence in :math:`(N, in_channels, T_{in}, V)`,\n",
    "                 A: Graph adjacency matrix in :math:`(K, V, V)`,\n",
    "        - Output: Graph sequence out in :math:`(N, out_channels, T_{out}, V)`\n",
    "\n",
    "            where\n",
    "                :math:`N` is a batch size,\n",
    "                :math:`K` is the spatial kernel size, as :math:`K == kernel_size[1]`,\n",
    "                :math:`T_{in}/T_{out}` is a length of input/output sequence,\n",
    "                :math:`V` is the number of graph nodes.\n",
    "\n",
    "    \"\"\"\n",
    "    def __init__(self, in_channels, out_channels, kernel_size,\n",
    "                 t_kernel_size=1,\n",
    "                 t_stride=1,\n",
    "                 t_padding=0,\n",
    "                 t_dilation=1,\n",
    "                 bias=True):\n",
    "        super().__init__()\n",
    "\n",
    "        self.kernel_size = kernel_size\n",
    "        self.conv = nn.Conv2d(in_channels,\n",
    "                              out_channels * kernel_size,\n",
    "                              kernel_size=(t_kernel_size, 1),\n",
    "                              padding=(t_padding, 0),\n",
    "                              stride=(t_stride, 1),\n",
    "                              dilation=(t_dilation, 1),\n",
    "                              bias=bias)\n",
    "\n",
    "    def forward(self, x, A):\n",
    "        x = self.conv(x)\n",
    "        n, kc, t, v = x.size()\n",
    "        x = x.view(n, self.kernel_size, kc//self.kernel_size, t, v)\n",
    "        x = torch.einsum('nkctv,kvw->nctw', (x, A))\n",
    "\n",
    "        return x.contiguous()\n",
    "###########################################################\n",
    "class Channel_Attention(nn.Module):\n",
    "    def __init__(self,out_channels):\n",
    "        super().__init__()\n",
    "        \n",
    "        self.atten = nn.Sequential(\n",
    "            nn.AdaptiveAvgPool2d((1,1)),\n",
    "            nn.Conv2d(out_channels,int(out_channels/4),1),\n",
    "            nn.BatchNorm2d(int(out_channels/4)),\n",
    "            nn.ReLU(),\n",
    "            nn.Conv2d(int(out_channels/4),out_channels,1),\n",
    "            nn.Sigmoid(),\n",
    "        )\n",
    "    def forward(self,x):\n",
    "        \n",
    "        atten = self.atten(x)\n",
    "        # print(x.shape,atten.shape)\n",
    "        x = x*atten\n",
    "        \n",
    "        return x\n",
    "    \n",
    "\n",
    "###########################################################\n",
    "\n",
    "class st_gcn(nn.Module):\n",
    "    \"\"\"Applies a spatial temporal graph convolution over an input graph sequence.\n",
    "    Args:\n",
    "        - in_channels: (int) Number of channels in the input sequence data.\n",
    "        - out_channels: (int) Number of channels produced by the convolution.\n",
    "        - kernel_size: (tuple) Size of the temporal convolving kernel and\n",
    "            graph convolving kernel.\n",
    "        - stride: (int, optional) Stride of the temporal convolution. Default: 1\n",
    "        - dropout: (int, optional) Dropout rate of the final output. Default: 0\n",
    "        - residual: (bool, optional) If `True`, applies a residual mechanism.\n",
    "            Default: `True`\n",
    "    Shape:\n",
    "        - Inputs x: Graph sequence in :math: `(N, in_channels, T_{in}, V)`,\n",
    "                 A: Graph Adjecency matrix in :math: `(K, V, V)`,\n",
    "        - Output: Graph sequence out in :math: `(N, out_channels, T_{out}, V)`\n",
    "            where\n",
    "                :math:`N` is a batch size,\n",
    "                :math:`K` is the spatial kernel size, as :math:`K == kernel_size[1]`,\n",
    "                :math:`T_{in}/T_{out}` is a length of input/output sequence,\n",
    "                :math:`V` is the number of graph nodes.\n",
    "    \"\"\"\n",
    "    def __init__(self, in_channels, out_channels, kernel_size,\n",
    "                 stride=1,\n",
    "                 dropout=0,\n",
    "                 residual=True):\n",
    "        super().__init__()\n",
    "        assert len(kernel_size) == 2\n",
    "        assert kernel_size[0] % 2 == 1\n",
    "        #print(kernel_size)(9, 3)\n",
    "        padding = ((kernel_size[0] - 1) // 2, 0)\n",
    "        #print(padding)(4, 0)\n",
    "\n",
    "        self.gcn = GraphConvolution(in_channels, out_channels, kernel_size[1])\n",
    "        self.tcn = nn.Sequential(nn.BatchNorm2d(out_channels),\n",
    "                                 nn.ReLU(inplace=False),\n",
    "                                 nn.Conv2d(out_channels,\n",
    "                                           out_channels,\n",
    "                                           (kernel_size[0], 1),\n",
    "                                           (stride, 1),\n",
    "                                           padding),\n",
    "                                 nn.BatchNorm2d(out_channels),\n",
    "                                 nn.Dropout(dropout, inplace=True),\n",
    "                                 )\n",
    "\n",
    "        if not residual:\n",
    "            self.residual = lambda x: 0\n",
    "        elif (in_channels == out_channels) and (stride == 1):\n",
    "            self.residual = lambda x: x\n",
    "        else:\n",
    "            self.residual = nn.Sequential(nn.Conv2d(in_channels,\n",
    "                                                    out_channels,\n",
    "                                                    kernel_size=1,\n",
    "                                                    stride=(stride, 1)),\n",
    "                                          nn.BatchNorm2d(out_channels)\n",
    "                                          )\n",
    "        self.relu = nn.ReLU(inplace=False)\n",
    "        self.channel_attention_module = Channel_Attention(out_channels) \n",
    "        \n",
    "    def forward(self, x, A):\n",
    "        res = self.residual(x)\n",
    "        # print(res)\n",
    "        x = self.gcn(x, A)\n",
    "        #print(\"x_in:\",x.size())\n",
    "        # x = self.tcn(x) + res\n",
    "        #print(\"x_out:\",x.size())\n",
    "        x = self.tcn(x)\n",
    "        x = self.channel_attention_module(x) + res\n",
    "        \n",
    "        return self.relu(x)\n",
    "\n",
    "\n",
    "class StreamSpatialTemporalGraph(nn.Module):\n",
    "    \"\"\"Spatial temporal graph convolutional networks.\n",
    "    Args:\n",
    "        - in_channels: (int) Number of input channels.\n",
    "        - graph_args: (dict) Args map of `Actionsrecognition.Utils.Graph` Class.\n",
    "        - num_class: (int) Number of class outputs. If `None` return pooling features of\n",
    "            the last st-gcn layer instead.\n",
    "        - edge_importance_weighting: (bool) If `True`, adds a learnable importance\n",
    "            weighting to the edges of the graph.\n",
    "        - **kwargs: (optional) Other parameters for graph convolution units.\n",
    "    Shape:\n",
    "        - Input: :math:`(N, in_channels, T_{in}, V_{in})`\n",
    "        - Output: :math:`(N, num_class)` where\n",
    "            :math:`N` is a batch size,\n",
    "            :math:`T_{in}` is a length of input sequence,\n",
    "            :math:`V_{in}` is the number of graph nodes,\n",
    "        or If num_class is `None`: `(N, out_channels)`\n",
    "            :math:`out_channels` is number of out_channels of the last layer.\n",
    "    \"\"\"\n",
    "    def __init__(self, in_channels, graph_args, num_class=None,\n",
    "                 edge_importance_weighting=True, **kwargs):\n",
    "        super().__init__()\n",
    "        # Load graph.\n",
    "        graph = Graph(**graph_args)\n",
    "        A = torch.tensor(graph.A, dtype=torch.float32, requires_grad=False)\n",
    "        self.register_buffer('A', A)\n",
    "\n",
    "        # Networks.\n",
    "        spatial_kernel_size = A.size(0)\n",
    "        temporal_kernel_size = 9\n",
    "        kernel_size = (temporal_kernel_size, spatial_kernel_size)\n",
    "        kwargs0 = {k: v for k, v in kwargs.items() if k != 'dropout'}\n",
    "\n",
    "        self.data_bn = nn.BatchNorm1d(in_channels * A.size(1))\n",
    "        self.st_gcn_networks = nn.ModuleList((\n",
    "            st_gcn(in_channels, 64, kernel_size, 1, residual=False, **kwargs0),\n",
    "            \n",
    "            st_gcn(64, 64, kernel_size, 1, **kwargs),\n",
    "            st_gcn(64, 64, kernel_size, 1, **kwargs),\n",
    "            # st_gcn(64, 64, kernel_size, 1, **kwargs),\n",
    "            st_gcn(64, 128, kernel_size, 2, **kwargs),\n",
    "            st_gcn(128, 128, kernel_size, 1, **kwargs),\n",
    "            # st_gcn(128, 128, kernel_size, 1, **kwargs),\n",
    "            st_gcn(128, 256, kernel_size, 2, **kwargs),\n",
    "            st_gcn(256, 256, kernel_size, 1, **kwargs),\n",
    "            # st_gcn(256, 256, kernel_size, 1, **kwargs)\n",
    "        ))\n",
    "\n",
    "        # initialize parameters for edge importance weighting.\n",
    "        if edge_importance_weighting:\n",
    "            self.edge_importance = nn.ParameterList([\n",
    "                nn.Parameter(torch.ones(A.size()))\n",
    "                for i in self.st_gcn_networks\n",
    "            ])\n",
    "        else:\n",
    "            self.edge_importance = [1] * len(self.st_gcn_networks)\n",
    "\n",
    "        if num_class is not None:\n",
    "            self.cls = nn.Conv2d(256, num_class, kernel_size=1)\n",
    "        else:\n",
    "            self.cls = lambda x: x\n",
    "\n",
    "    def forward(self, x):\n",
    "        # data normalization.\n",
    "        N, C, T, V = x.size()\n",
    "        x = x.permute(0, 3, 1, 2).contiguous()  # (N, V, C, T)\n",
    "        x = x.view(N, V * C, T)\n",
    "        x = self.data_bn(x)\n",
    "        x = x.view(N, V, C, T)\n",
    "        x = x.permute(0, 2, 3, 1).contiguous()\n",
    "        x = x.view(N, C, T, V)\n",
    "\n",
    "        # forward.\n",
    "        for gcn, importance in zip(self.st_gcn_networks, self.edge_importance):\n",
    "            x = gcn(x, self.A * importance)\n",
    "        #(B: 32,256, 6 or 7, node: 14, )\n",
    "        x = F.avg_pool2d(x, x.size()[2:])\n",
    "        x = self.cls(x)\n",
    "        x = x.view(x.size(0), -1)\n",
    "\n",
    "        return x\n",
    "\n",
    "\n",
    "class TwoStreamSpatialTemporalGraph(nn.Module):\n",
    "    \"\"\"Two inputs spatial temporal graph convolutional networks.\n",
    "    Args:\n",
    "        - graph_args: (dict) Args map of `Actionsrecognition.Utils.Graph` Class.\n",
    "        - num_class: (int) Number of class outputs.\n",
    "        - edge_importance_weighting: (bool) If `True`, adds a learnable importance\n",
    "            weighting to the edges of the graph.\n",
    "        - **kwargs: (optional) Other parameters for graph convolution units.\n",
    "    Shape:\n",
    "        - Input: :tuple of math:`((N, 3, T, V), (N, 2, T, V))`\n",
    "        for points and motions stream where.\n",
    "            :math:`N` is a batch size,\n",
    "            :math:`in_channels` is data channels (3 is (x, y, score)), (2 is (mot_x, mot_y))\n",
    "            :math:`T` is a length of input sequence,\n",
    "            :math:`V` is the number of graph nodes,\n",
    "        - Output: :math:`(N, num_class)`\n",
    "    \"\"\"\n",
    "    def __init__(self, graph_args, num_class, edge_importance_weighting=True,\n",
    "                 **kwargs):\n",
    "        super().__init__()\n",
    "        self.pts_stream = StreamSpatialTemporalGraph(3, graph_args, None,\n",
    "                                                     edge_importance_weighting,\n",
    "                                                     **kwargs)#3 is x,y,z\n",
    "        self.mot_stream = StreamSpatialTemporalGraph(2, graph_args, None,\n",
    "                                                     edge_importance_weighting,\n",
    "                                                     **kwargs)#2 is x,y\n",
    "\n",
    "        self.fcn = nn.Linear(256 * 2, num_class)\n",
    "        # print(\"errr\")\n",
    "        \n",
    "        \n",
    "        # self.attention1=nn.Sequential(\n",
    "        #     nn.Linear(256 * 2, 128),\n",
    "        #     nn.BatchNorm1d(128),\n",
    "        #     nn.LeakyReLU(inplace=False),\n",
    "        #     nn.Linear(128, 256 * 2),\n",
    "        #     nn.BatchNorm1d(256 * 2),\n",
    "        #     nn.Sigmoid(),\n",
    "        # )\n",
    "        \n",
    "        # self.attention2=nn.Sequential(\n",
    "        #     nn.Linear(256 * 2, 128),\n",
    "        #     nn.BatchNorm1d(128),\n",
    "        #     nn.ReLU(inplace=False),\n",
    "        #     nn.Linear(128, 256 * 2),\n",
    "        #     nn.BatchNorm1d(256 * 2),\n",
    "        #     nn.Sigmoid(),\n",
    "        # )\n",
    "        \n",
    "        # self.attention3=nn.Sequential(\n",
    "        #     nn.Linear(256 * 2, 64),\n",
    "        #     nn.BatchNorm1d(64),\n",
    "        #     nn.ReLU(inplace=False),\n",
    "        #     nn.Linear(64, 256 * 2),\n",
    "        #     nn.BatchNorm1d(256 * 2),\n",
    "        #     nn.Sigmoid(),\n",
    "        # )\n",
    "        \n",
    "        # self.attention4=nn.Sequential(\n",
    "        #     nn.Linear(256 * 2, 64),\n",
    "        #     nn.BatchNorm1d(64),\n",
    "        #     nn.ReLU(inplace=False),\n",
    "        #     nn.Linear(64, 64),\n",
    "        #     nn.BatchNorm1d(64),\n",
    "        #     nn.ReLU(inplace=False),\n",
    "        #     nn.Linear(64, 256 * 2),\n",
    "        #     nn.BatchNorm1d(256 * 2),\n",
    "        #     nn.Sigmoid(),\n",
    "        # )\n",
    "        \n",
    "        # self.attention5=nn.Sequential(\n",
    "        #     nn.Linear(256 * 2, 128),\n",
    "        #     nn.BatchNorm1d(128),\n",
    "        #     nn.GELU(),\n",
    "        #     nn.Linear(128, 256 * 2),\n",
    "        #     nn.BatchNorm1d(256 * 2),\n",
    "        #     nn.Sigmoid(),\n",
    "        # )\n",
    "        \n",
    "    def forward(self, inputs):\n",
    "        out1 = self.pts_stream(inputs[0])\n",
    "        out2 = self.mot_stream(inputs[1])\n",
    "        \n",
    "        #print(out1.size())torch.Size([32, 256])\n",
    "        #print(out2.size())torch.Size([32, 256])\n",
    "        concat = torch.cat([out1, out2], dim=-1)\n",
    "    \n",
    "        \n",
    "        # concat =  self.attention1(concat)\n",
    "        # concat =  self.attention2(concat)\n",
    "        # concat =  self.attention3(concat)\n",
    "        # concat =  self.attention4(concat)\n",
    "        # concat =  self.attention5(concat)\n",
    "        \n",
    "        out = self.fcn(concat)\n",
    "        #print(out.size())\n",
    "        # return torch.sigmoid(out)\n",
    "        return F.softmax(out,dim=-1)"
   ]
  },
  {
   "cell_type": "code",
   "execution_count": 31,
   "id": "9787a671-a84f-4048-885e-33792e7ff5a1",
   "metadata": {},
   "outputs": [],
   "source": [
    "import torch\n",
    "import torch.nn as nn\n",
    "import torch.nn.functional as f\n",
    "\n",
    "####1DCNN(時系列により)######\n",
    "class CNN1D(nn.Module):\n",
    "    def __init__(self):\n",
    "        super(CNN1D, self).__init__()\n",
    "        self.layer1 = nn.Sequential(\n",
    "            nn.Conv1d(4, 16, kernel_size=5, padding=2), #batch,チャンネル、シーケンス 入力チャンネル=30, 出力チャンネル=16\n",
    "            nn.BatchNorm1d(16),\n",
    "            nn.ReLU(),\n",
    "            nn.MaxPool1d(2))\n",
    "        self.layer2 = nn.Sequential(\n",
    "            nn.Conv1d(16, 32, kernel_size=5, padding=2),\n",
    "            nn.BatchNorm1d(32),\n",
    "            nn.ReLU(),\n",
    "            nn.MaxPool1d(2))\n",
    "        self.fc = nn.Linear(32*7, 32)  \n",
    "\n",
    "    def forward(self, x):\n",
    "        x = self.layer1(x)\n",
    "        x = self.layer2(x)#torch.Size([32, 32, 7])\n",
    "        # x = x.view(x.size(0), -1)  # Flatten\n",
    "        # x = self.fc(x)torch.Size([32, 32])\n",
    "        # print(x.size())\n",
    "        return x\n",
    "####LSTM#####\n",
    "class ChannelAttention(nn.Module):\n",
    "    def __init__(self, input_size, reduce_rate = 1/8):\n",
    "        super(ChannelAttention,self).__init__()\n",
    "        \n",
    "        self.attention = nn.Sequential(\n",
    "            nn.Linear(input_size, int(input_size*reduce_rate)),\n",
    "            nn.ReLU(),\n",
    "            nn.Linear(int(input_size*reduce_rate), input_size),\n",
    "            nn.Sigmoid(),\n",
    "        )\n",
    "        \n",
    "    def forward(self,x):\n",
    "        weight = self.attention(x)\n",
    "        x = torch.einsum('bc,bc -> bc',(x,weight))\n",
    "        return x\n",
    "    \n",
    "class BiLSTM(nn.Module):\n",
    "    def __init__(self, input_size, hidden_size, num_layers, dropout_prob, num_classes = 1, feature = \"last\"):\n",
    "        super(BiLSTM,self).__init__()\n",
    "        self.input_size = input_size\n",
    "        self.hidden_size = hidden_size\n",
    "        self.num_layers = num_layers\n",
    "        self.num_classes = num_classes\n",
    "        # Bidirectional LSTM layer\n",
    "        self.lstm1 = nn.LSTM(input_size, hidden_size, num_layers, batch_first=True, bidirectional=True,dropout=dropout_prob)\n",
    "        \n",
    "        self.batchnorm = nn.BatchNorm1d(hidden_size*2)\n",
    "        self.channelattention = ChannelAttention(hidden_size*2)\n",
    "        \n",
    "        self.feature = feature\n",
    "        \n",
    "        self.fc = nn.Sequential(\n",
    "            nn.Flatten(),\n",
    "            nn.Linear(hidden_size*2,num_classes)\n",
    "        )\n",
    "        \n",
    "    def forward(self, x):\n",
    "        # x = self.attention(x)\n",
    "        # Initialize hidden state with zeros\n",
    "        h0 = torch.zeros(self.num_layers * 2, x.size(0), self.hidden_size).to(x.device)  # Multiply by 2 for bidirectional\n",
    "        c0 = torch.zeros(self.num_layers * 2, x.size(0), self.hidden_size).to(x.device)\n",
    "        \n",
    "        # Forward propagate LSTM\n",
    "        out, _ = self.lstm1(x, (h0, c0))\n",
    "        \n",
    "        \n",
    "        # out = self.meanovertime(out)\n",
    "        if self.feature==\"last\":\n",
    "            out = out[:, -1, :]\n",
    "        else:\n",
    "            out = torch.mean(out,axis=1,keepdim=False)\n",
    "        out = self.batchnorm(out)\n",
    "        out = self.channelattention(out)\n",
    "        out = self.fc(out)\n",
    "        return out\n",
    "    \n",
    "class CNN_BiLSTM(nn.Module):\n",
    "    def __init__(self, hidden_size, num_layers, dropout_prob, num_classes=1, feature=\"last\"):\n",
    "        super(CNN_BiLSTM, self).__init__()\n",
    "        self.cnn = CNN1D()\n",
    "        self.bilstm = BiLSTM(input_size=32,hidden_size=64,num_layers=1,dropout_prob=0.3,num_classes=2,feature=\"mean\")\n",
    "    \n",
    "    def forward(self, x):\n",
    "        x = x.permute(0,2,1)\n",
    "        cnn_out = self.cnn(x)\n",
    "        # print(cnn_out)\n",
    "        # cnn_out = cnn_out.unsqueeze(1)# LSTMに渡すために次元を調整 (batch, seq_len, feature)torch.Size([32, 1, 32])\n",
    "        # print(cnn_out.size())\n",
    "        cnn_out = cnn_out.permute(0,2,1)\n",
    "        lstm_out = self.bilstm(cnn_out)\n",
    "        return lstm_out\n",
    "    \n",
    "    \n",
    "# model = BiLSTM(input_size=4,hidden_size=125,num_layers=1,dropout_prob=0.3,num_classes=2,feature=\"mean\")"
   ]
  },
  {
   "cell_type": "code",
   "execution_count": 32,
   "id": "6b69f5b5-e1c1-4ce2-8a3b-78938d78bbec",
   "metadata": {},
   "outputs": [],
   "source": [
    "# inp=torch.randn(8,2,21,14)\n",
    "# inp=inp.cuda()\n",
    "\n",
    "# #print(a[1].shape)\n",
    "# a=model(inp)\n",
    "# print(a.shape)"
   ]
  },
  {
   "cell_type": "code",
   "execution_count": 33,
   "id": "550b4242-1af7-454e-ab59-f25358984096",
   "metadata": {},
   "outputs": [],
   "source": [
    "import torch\n",
    "from torch.utils.data import Dataset\n",
    "\n",
    "class Skeleton_Sensor_Dataset(Dataset):\n",
    "    def __init__(self,skeleton_sensor_data,label):\n",
    "        self.skeleton_sensor_data = skeleton_sensor_data\n",
    "        self.label = label\n",
    "        \n",
    "    def __len__(self):\n",
    "        return len(self.skeleton_sensor_data)\n",
    "    \n",
    "    def __getitem__(self,idx):\n",
    "        skeleton,sensor = self.skeleton_sensor_data[idx]\n",
    "        label = self.label[idx]\n",
    "        \n",
    "        # print(f\"DEBUG {type(skeleton.dtype)}, {type(sensor.dtype)} {type(label.dtype)} \")\n",
    "        \n",
    "        if not isinstance(skeleton,torch.Tensor):\n",
    "            skeleton = torch.tensor(skeleton,dtype=torch.float32)\n",
    "            \n",
    "        if not isinstance(sensor,torch.Tensor):\n",
    "            sensor = torch.tensor(sensor,dtype=torch.float32)\n",
    "        \n",
    "        if not isinstance(label,torch.Tensor):\n",
    "            label = torch.tensor(label,dtype=torch.float32)\n",
    "            \n",
    "        skeleton = skeleton.permute(2,0,1)\n",
    "        return skeleton,sensor,label\n",
    "    \n",
    "class Skeleton_Sensor_Dataset_v2(Dataset):\n",
    "    def __init__(self,skeleton_sensor_data,label):\n",
    "        self.skeleton_sensor_data = skeleton_sensor_data\n",
    "        self.label = label\n",
    "        \n",
    "    def __len__(self):\n",
    "        return len(self.skeleton_sensor_data)\n",
    "    \n",
    "    def __getitem__(self,idx):\n",
    "        skeleton,sensor = self.skeleton_sensor_data[idx]\n",
    "        label = self.label[idx]\n",
    "        \n",
    "        # print(f\"DEBUG {type(skeleton.dtype)}, {type(sensor.dtype)} {type(label.dtype)} \")\n",
    "        \n",
    "        if not isinstance(skeleton,torch.Tensor):\n",
    "            skeleton = torch.tensor(skeleton,dtype=torch.float32)\n",
    "            \n",
    "        if not isinstance(sensor,torch.Tensor):\n",
    "            sensor = torch.tensor(sensor,dtype=torch.float32)\n",
    "        \n",
    "        if not isinstance(label,torch.Tensor):\n",
    "            label = torch.tensor(label,dtype=torch.float32)\n",
    "            \n",
    "        skeleton = skeleton.permute(2,0,1) # skeleton [num_sample, (time, vertex, xyz)] -> [num_sample, (xyz, time, vertex)]\n",
    "        return skeleton,sensor,label\n",
    "    \n",
    "def custom_collate_fn(batch):\n",
    "    skeletons = [item[0] for item in batch]\n",
    "    sensors = [item[1] for item in batch]\n",
    "    labels = [item[2] for item in batch]\n",
    "\n",
    "    skeletons = torch.stack(skeletons)\n",
    "    sensors = torch.stack(sensors)\n",
    "    labels = torch.stack(labels)  # 例: ラベルが整数である場合\n",
    "\n",
    "    return skeletons, sensors, labels"
   ]
  },
  {
   "cell_type": "code",
   "execution_count": 34,
   "id": "c7d5bc12-a5fe-451e-a808-f7ea904d6b08",
   "metadata": {},
   "outputs": [],
   "source": [
    "def load_dataset(data_files, batch_size, split_size=0.2):#0.2\n",
    "    \"\"\"Load data files into torch DataLoader with/without spliting train-test.\n",
    "    \"\"\"\n",
    "    features,sensors, labels = [], [], []\n",
    "    for fil in data_files:\n",
    "        # print(fil)\n",
    "        with open(fil, 'rb') as f:\n",
    "            _ ,fts,sr,lbs = pickle.load(f)\n",
    "            videos += vid\n",
    "            features.append(fts)\n",
    "            sensors.append(sr)\n",
    "            labels.append(lbs)\n",
    "        del fts, lbs,sr\n",
    "    features = np.concatenate(features, axis=0)\n",
    "    labels = np.concatenate(labels, axis=0)\n",
    "    sensors = np.concatenate(sensors, axis=0)\n",
    "    # print(features.shape,labels.shape)\n",
    "    # print(f\"DEBUG {features.shape},{sensors.shape},{labels.shape}\")\n",
    "    labels = labels.astype(np.float32)\n",
    "    \n",
    "    samples = []\n",
    "    for feature,sensor in zip(features,sensors):\n",
    "        samples += [(feature,sensor)]\n",
    "    # samples = np.array(samples,dtype=object)\n",
    "    \n",
    "    if split_size > 0:\n",
    "        x_train, x_valid, y_train, y_valid = train_test_split(samples, labels, test_size=split_size,random_state=9)\n",
    "        \n",
    "        # train_set = data.TensorDataset(torch.tensor(x_train, dtype=torch.float32).permute(0, 3, 1, 2),\n",
    "        #                                torch.tensor(y_train, dtype=torch.float32))\n",
    "        # valid_set = data.TensorDataset(torch.tensor(x_valid, dtype=torch.float32).permute(0, 3, 1, 2),\n",
    "        #                                torch.tensor(y_valid, dtype=torch.float32))\n",
    "        train_set = Skeleton_Sensor_Dataset(x_train,y_train)\n",
    "        valid_set = Skeleton_Sensor_Dataset(x_valid,y_valid)\n",
    "        train_loader = data.DataLoader(train_set, batch_size, shuffle=True)\n",
    "        valid_loader = data.DataLoader(valid_set, batch_size)\n",
    "    else:\n",
    "        # train_set = data.TensorDataset(torch.tensor(features, dtype=torch.float32).permute(0, 3, 1, 2),\n",
    "        #                                torch.tensor(labels, dtype=torch.float32))\n",
    "        train_set = Skeleton_Sensor_Dataset(features,labels)\n",
    "        train_loader = data.DataLoader(train_set, batch_size, shuffle=True)\n",
    "        valid_loader = None\n",
    "    return train_loader, valid_loader\n",
    "\n",
    "\n",
    "def load_dataset_v2(data_files, batch_size, split_size=0.2):#0.2\n",
    "    \"\"\"Load data files into torch DataLoader with/without spliting train-test.\n",
    "    \"\"\"\n",
    "    videos = []\n",
    "    features,sensors, labels = [], [], []\n",
    "    for fil in data_files:\n",
    "        # print(fil)\n",
    "        with open(fil, 'rb') as f:\n",
    "            vid ,fts,sr, lbs = pickle.load(f)\n",
    "            videos += vid\n",
    "            features.append(fts)\n",
    "            sensors.append(sr)\n",
    "            labels.append(lbs)\n",
    "        del fts, lbs,sr\n",
    "    features = np.concatenate(features, axis=0)\n",
    "    labels = np.concatenate(labels, axis=0)\n",
    "    sensors = np.concatenate(sensors, axis=0)\n",
    "    # print(features.shape,labels.shape)\n",
    "    # print(f\"DEBUG {features.shape},{sensors.shape},{labels.shape}\")\n",
    "    labels = labels.astype(np.float32) # dtype : object -> float32\n",
    "    \n",
    "    if split_size > 0:\n",
    "        unique_video_names = np.unique(videos)\n",
    "        train_videos, test_videos= train_test_split(unique_video_names,test_size=split_size,random_state=9)\n",
    "\n",
    "        train_samples,valid_samples = [],[]\n",
    "        train_label,valid_label = [],[]\n",
    "        for video,feature,sensor,label in zip(videos,features,sensors,labels):\n",
    "            if video in train_videos:\n",
    "                train_samples += [(feature,sensor)]\n",
    "                train_label += [label]\n",
    "            else:\n",
    "                valid_samples += [(feature,sensor)]\n",
    "                valid_label += [label]\n",
    "        \n",
    "        train_set = Skeleton_Sensor_Dataset(train_samples,train_label)\n",
    "        valid_set = Skeleton_Sensor_Dataset(valid_samples,valid_label)\n",
    "        train_loader = data.DataLoader(train_set, batch_size, shuffle=True,)\n",
    "        valid_loader = data.DataLoader(valid_set, batch_size)\n",
    "    \n",
    "    else:\n",
    "        samples = []\n",
    "        for feature,sensor in zip(features,sensors):\n",
    "            samples += [(feature,sensor)]\n",
    "        train_set = Skeleton_Sensor_Dataset(samples,labels)\n",
    "        train_loader = data.DataLoader(train_set, batch_size, shuffle=True)\n",
    "        valid_loader = None\n",
    "    return train_loader, valid_loader"
   ]
  },
  {
   "cell_type": "code",
   "execution_count": 35,
   "id": "3b8eaefe-20d9-483d-812c-849cfe45b7b2",
   "metadata": {
    "tags": []
   },
   "outputs": [
    {
     "name": "stdout",
     "output_type": "stream",
     "text": [
      "using cuda device\n",
      "number of params: 65154\n",
      "Epoch 0/99\n"
     ]
    },
    {
     "name": "stderr",
     "output_type": "stream",
     "text": [
      "train: 100%|██████████| 30/30 [00:00<00:00, 214.64it/s,  loss: 0.2890, accu: 0.9545]\n",
      "valid: 100%|██████████| 8/8 [00:00<00:00, 473.73it/s,  loss: 0.4366, accu: 1.0000]"
     ]
    },
    {
     "name": "stdout",
     "output_type": "stream",
     "text": [
      "Summary epoch:\n",
      " - Train loss: 0.3068, accu: 0.9433\n",
      " - Valid loss: 0.3689, accu: 0.9609\n",
      "0.9609375\n"
     ]
    },
    {
     "name": "stderr",
     "output_type": "stream",
     "text": [
      "\n"
     ]
    },
    {
     "name": "stdout",
     "output_type": "stream",
     "text": [
      "Epoch 1/99\n"
     ]
    },
    {
     "name": "stderr",
     "output_type": "stream",
     "text": [
      "train: 100%|██████████| 30/30 [00:00<00:00, 222.50it/s,  loss: 0.2509, accu: 1.0000]\n",
      "valid: 100%|██████████| 8/8 [00:00<00:00, 463.17it/s,  loss: 0.3913, accu: 1.0000]"
     ]
    },
    {
     "name": "stdout",
     "output_type": "stream",
     "text": [
      "Summary epoch:\n",
      " - Train loss: 0.2661, accu: 0.9917\n",
      " - Valid loss: 0.3246, accu: 0.9648\n",
      "0.96484375\n"
     ]
    },
    {
     "name": "stderr",
     "output_type": "stream",
     "text": [
      "\n"
     ]
    },
    {
     "name": "stdout",
     "output_type": "stream",
     "text": [
      "Epoch 2/99\n"
     ]
    },
    {
     "name": "stderr",
     "output_type": "stream",
     "text": [
      "train: 100%|██████████| 30/30 [00:00<00:00, 222.06it/s,  loss: 0.2686, accu: 1.0000]\n",
      "valid: 100%|██████████| 8/8 [00:00<00:00, 467.19it/s,  loss: 0.3624, accu: 1.0000]"
     ]
    },
    {
     "name": "stdout",
     "output_type": "stream",
     "text": [
      "Summary epoch:\n",
      " - Train loss: 0.2657, accu: 0.9906\n",
      " - Valid loss: 0.3192, accu: 0.9688\n",
      "0.96875\n"
     ]
    },
    {
     "name": "stderr",
     "output_type": "stream",
     "text": [
      "\n"
     ]
    },
    {
     "name": "stdout",
     "output_type": "stream",
     "text": [
      "Epoch 3/99\n"
     ]
    },
    {
     "name": "stderr",
     "output_type": "stream",
     "text": [
      "train: 100%|██████████| 30/30 [00:00<00:00, 222.90it/s,  loss: 0.2988, accu: 1.0000]\n",
      "valid: 100%|██████████| 8/8 [00:00<00:00, 475.52it/s,  loss: 0.3635, accu: 1.0000]"
     ]
    },
    {
     "name": "stdout",
     "output_type": "stream",
     "text": [
      "Summary epoch:\n",
      " - Train loss: 0.2653, accu: 0.9917\n",
      " - Valid loss: 0.3174, accu: 0.9688\n",
      "0.96875\n"
     ]
    },
    {
     "name": "stderr",
     "output_type": "stream",
     "text": [
      "\n"
     ]
    },
    {
     "name": "stdout",
     "output_type": "stream",
     "text": [
      "Epoch 4/99\n"
     ]
    },
    {
     "name": "stderr",
     "output_type": "stream",
     "text": [
      "train: 100%|██████████| 30/30 [00:00<00:00, 222.46it/s,  loss: 0.2752, accu: 1.0000]\n",
      "valid: 100%|██████████| 8/8 [00:00<00:00, 478.81it/s,  loss: 0.3637, accu: 1.0000]"
     ]
    },
    {
     "name": "stdout",
     "output_type": "stream",
     "text": [
      "Summary epoch:\n",
      " - Train loss: 0.2647, accu: 0.9927\n",
      " - Valid loss: 0.3134, accu: 0.9766\n",
      "0.9765625\n"
     ]
    },
    {
     "name": "stderr",
     "output_type": "stream",
     "text": [
      "\n"
     ]
    },
    {
     "name": "stdout",
     "output_type": "stream",
     "text": [
      "Epoch 5/99\n"
     ]
    },
    {
     "name": "stderr",
     "output_type": "stream",
     "text": [
      "train: 100%|██████████| 30/30 [00:00<00:00, 223.59it/s,  loss: 0.2650, accu: 1.0000]\n",
      "valid: 100%|██████████| 8/8 [00:00<00:00, 486.18it/s,  loss: 0.3610, accu: 1.0000]"
     ]
    },
    {
     "name": "stdout",
     "output_type": "stream",
     "text": [
      "Summary epoch:\n",
      " - Train loss: 0.2643, accu: 0.9927\n",
      " - Valid loss: 0.3180, accu: 0.9648\n",
      "0.9765625\n"
     ]
    },
    {
     "name": "stderr",
     "output_type": "stream",
     "text": [
      "\n"
     ]
    },
    {
     "name": "stdout",
     "output_type": "stream",
     "text": [
      "Epoch 6/99\n"
     ]
    },
    {
     "name": "stderr",
     "output_type": "stream",
     "text": [
      "train: 100%|██████████| 30/30 [00:00<00:00, 222.58it/s,  loss: 0.2789, accu: 1.0000]\n",
      "valid: 100%|██████████| 8/8 [00:00<00:00, 483.52it/s,  loss: 0.3613, accu: 1.0000]"
     ]
    },
    {
     "name": "stdout",
     "output_type": "stream",
     "text": [
      "Summary epoch:\n",
      " - Train loss: 0.2643, accu: 0.9938\n",
      " - Valid loss: 0.3150, accu: 0.9805\n",
      "0.98046875\n"
     ]
    },
    {
     "name": "stderr",
     "output_type": "stream",
     "text": [
      "\n"
     ]
    },
    {
     "name": "stdout",
     "output_type": "stream",
     "text": [
      "Epoch 7/99\n"
     ]
    },
    {
     "name": "stderr",
     "output_type": "stream",
     "text": [
      "train: 100%|██████████| 30/30 [00:00<00:00, 223.21it/s,  loss: 0.2629, accu: 1.0000]\n",
      "valid: 100%|██████████| 8/8 [00:00<00:00, 480.04it/s,  loss: 0.3612, accu: 1.0000]"
     ]
    },
    {
     "name": "stdout",
     "output_type": "stream",
     "text": [
      "Summary epoch:\n",
      " - Train loss: 0.2645, accu: 0.9927\n",
      " - Valid loss: 0.3158, accu: 0.9688\n",
      "0.98046875\n"
     ]
    },
    {
     "name": "stderr",
     "output_type": "stream",
     "text": [
      "\n"
     ]
    },
    {
     "name": "stdout",
     "output_type": "stream",
     "text": [
      "Epoch 8/99\n"
     ]
    },
    {
     "name": "stderr",
     "output_type": "stream",
     "text": [
      "train: 100%|██████████| 30/30 [00:00<00:00, 224.81it/s,  loss: 0.2646, accu: 1.0000]\n",
      "valid: 100%|██████████| 8/8 [00:00<00:00, 483.28it/s,  loss: 0.3618, accu: 1.0000]"
     ]
    },
    {
     "name": "stdout",
     "output_type": "stream",
     "text": [
      "Summary epoch:\n",
      " - Train loss: 0.2638, accu: 0.9948\n",
      " - Valid loss: 0.3124, accu: 0.9688\n",
      "0.98046875\n"
     ]
    },
    {
     "name": "stderr",
     "output_type": "stream",
     "text": [
      "\n"
     ]
    },
    {
     "name": "stdout",
     "output_type": "stream",
     "text": [
      "Epoch 9/99\n"
     ]
    },
    {
     "name": "stderr",
     "output_type": "stream",
     "text": [
      "train: 100%|██████████| 30/30 [00:00<00:00, 224.59it/s,  loss: 0.2563, accu: 1.0000]\n",
      "valid: 100%|██████████| 8/8 [00:00<00:00, 482.36it/s,  loss: 0.3614, accu: 1.0000]"
     ]
    },
    {
     "name": "stdout",
     "output_type": "stream",
     "text": [
      "Summary epoch:\n",
      " - Train loss: 0.2635, accu: 0.9938\n",
      " - Valid loss: 0.3122, accu: 0.9727\n",
      "0.98046875\n"
     ]
    },
    {
     "name": "stderr",
     "output_type": "stream",
     "text": [
      "\n"
     ]
    },
    {
     "name": "stdout",
     "output_type": "stream",
     "text": [
      "Epoch 10/99\n"
     ]
    },
    {
     "name": "stderr",
     "output_type": "stream",
     "text": [
      "train: 100%|██████████| 30/30 [00:00<00:00, 223.98it/s,  loss: 0.2618, accu: 1.0000]\n",
      "valid: 100%|██████████| 8/8 [00:00<00:00, 489.74it/s,  loss: 0.3620, accu: 1.0000]"
     ]
    },
    {
     "name": "stdout",
     "output_type": "stream",
     "text": [
      "Summary epoch:\n",
      " - Train loss: 0.2634, accu: 0.9969\n",
      " - Valid loss: 0.3115, accu: 0.9688\n",
      "0.98046875\n"
     ]
    },
    {
     "name": "stderr",
     "output_type": "stream",
     "text": [
      "\n"
     ]
    },
    {
     "name": "stdout",
     "output_type": "stream",
     "text": [
      "Epoch 11/99\n"
     ]
    },
    {
     "name": "stderr",
     "output_type": "stream",
     "text": [
      "train: 100%|██████████| 30/30 [00:00<00:00, 223.45it/s,  loss: 0.2531, accu: 0.9545]\n",
      "valid: 100%|██████████| 8/8 [00:00<00:00, 482.51it/s,  loss: 0.3638, accu: 1.0000]"
     ]
    },
    {
     "name": "stdout",
     "output_type": "stream",
     "text": [
      "Summary epoch:\n",
      " - Train loss: 0.2633, accu: 0.9933\n",
      " - Valid loss: 0.3118, accu: 0.9766\n",
      "0.98046875\n"
     ]
    },
    {
     "name": "stderr",
     "output_type": "stream",
     "text": [
      "\n"
     ]
    },
    {
     "name": "stdout",
     "output_type": "stream",
     "text": [
      "Epoch 12/99\n"
     ]
    },
    {
     "name": "stderr",
     "output_type": "stream",
     "text": [
      "train: 100%|██████████| 30/30 [00:00<00:00, 219.88it/s,  loss: 0.2563, accu: 1.0000]\n",
      "valid: 100%|██████████| 8/8 [00:00<00:00, 481.62it/s,  loss: 0.3613, accu: 1.0000]"
     ]
    },
    {
     "name": "stdout",
     "output_type": "stream",
     "text": [
      "Summary epoch:\n",
      " - Train loss: 0.2633, accu: 0.9938\n",
      " - Valid loss: 0.3107, accu: 0.9766\n",
      "0.98046875\n"
     ]
    },
    {
     "name": "stderr",
     "output_type": "stream",
     "text": [
      "\n"
     ]
    },
    {
     "name": "stdout",
     "output_type": "stream",
     "text": [
      "Epoch 13/99\n"
     ]
    },
    {
     "name": "stderr",
     "output_type": "stream",
     "text": [
      "train: 100%|██████████| 30/30 [00:00<00:00, 224.32it/s,  loss: 0.2685, accu: 1.0000]\n",
      "valid: 100%|██████████| 8/8 [00:00<00:00, 473.97it/s,  loss: 0.3669, accu: 1.0000]"
     ]
    },
    {
     "name": "stdout",
     "output_type": "stream",
     "text": [
      "Summary epoch:\n",
      " - Train loss: 0.2631, accu: 0.9958\n",
      " - Valid loss: 0.3159, accu: 0.9648\n",
      "0.98046875\n"
     ]
    },
    {
     "name": "stderr",
     "output_type": "stream",
     "text": [
      "\n"
     ]
    },
    {
     "name": "stdout",
     "output_type": "stream",
     "text": [
      "Epoch 14/99\n"
     ]
    },
    {
     "name": "stderr",
     "output_type": "stream",
     "text": [
      "train: 100%|██████████| 30/30 [00:00<00:00, 224.99it/s,  loss: 0.2751, accu: 1.0000]\n",
      "valid: 100%|██████████| 8/8 [00:00<00:00, 478.62it/s,  loss: 0.3634, accu: 1.0000]"
     ]
    },
    {
     "name": "stdout",
     "output_type": "stream",
     "text": [
      "Summary epoch:\n",
      " - Train loss: 0.2632, accu: 0.9948\n",
      " - Valid loss: 0.3163, accu: 0.9688\n",
      "0.98046875\n"
     ]
    },
    {
     "name": "stderr",
     "output_type": "stream",
     "text": [
      "\n"
     ]
    },
    {
     "name": "stdout",
     "output_type": "stream",
     "text": [
      "Epoch 15/99\n"
     ]
    },
    {
     "name": "stderr",
     "output_type": "stream",
     "text": [
      "train: 100%|██████████| 30/30 [00:00<00:00, 222.29it/s,  loss: 0.2655, accu: 1.0000]\n",
      "valid: 100%|██████████| 8/8 [00:00<00:00, 481.13it/s,  loss: 0.3612, accu: 1.0000]"
     ]
    },
    {
     "name": "stdout",
     "output_type": "stream",
     "text": [
      "Summary epoch:\n",
      " - Train loss: 0.2630, accu: 0.9958\n",
      " - Valid loss: 0.3102, accu: 0.9805\n",
      "0.98046875\n"
     ]
    },
    {
     "name": "stderr",
     "output_type": "stream",
     "text": [
      "\n"
     ]
    },
    {
     "name": "stdout",
     "output_type": "stream",
     "text": [
      "Epoch 16/99\n"
     ]
    },
    {
     "name": "stderr",
     "output_type": "stream",
     "text": [
      "train: 100%|██████████| 30/30 [00:00<00:00, 222.65it/s,  loss: 0.2707, accu: 1.0000]\n",
      "valid: 100%|██████████| 8/8 [00:00<00:00, 479.47it/s,  loss: 0.3748, accu: 1.0000]"
     ]
    },
    {
     "name": "stdout",
     "output_type": "stream",
     "text": [
      "Summary epoch:\n",
      " - Train loss: 0.2630, accu: 0.9906\n",
      " - Valid loss: 0.3241, accu: 0.9531\n",
      "0.98046875\n"
     ]
    },
    {
     "name": "stderr",
     "output_type": "stream",
     "text": [
      "\n"
     ]
    },
    {
     "name": "stdout",
     "output_type": "stream",
     "text": [
      "Epoch 17/99\n"
     ]
    },
    {
     "name": "stderr",
     "output_type": "stream",
     "text": [
      "train: 100%|██████████| 30/30 [00:00<00:00, 224.52it/s,  loss: 0.2613, accu: 0.9545]\n",
      "valid: 100%|██████████| 8/8 [00:00<00:00, 476.33it/s,  loss: 0.3614, accu: 1.0000]"
     ]
    },
    {
     "name": "stdout",
     "output_type": "stream",
     "text": [
      "Summary epoch:\n",
      " - Train loss: 0.2629, accu: 0.9964\n",
      " - Valid loss: 0.3123, accu: 0.9727\n",
      "0.98046875\n"
     ]
    },
    {
     "name": "stderr",
     "output_type": "stream",
     "text": [
      "\n"
     ]
    },
    {
     "name": "stdout",
     "output_type": "stream",
     "text": [
      "Epoch 18/99\n"
     ]
    },
    {
     "name": "stderr",
     "output_type": "stream",
     "text": [
      "train: 100%|██████████| 30/30 [00:00<00:00, 224.95it/s,  loss: 0.2740, accu: 0.9545]\n",
      "valid: 100%|██████████| 8/8 [00:00<00:00, 484.09it/s,  loss: 0.3629, accu: 1.0000]"
     ]
    },
    {
     "name": "stdout",
     "output_type": "stream",
     "text": [
      "Summary epoch:\n",
      " - Train loss: 0.2629, accu: 0.9933\n",
      " - Valid loss: 0.3275, accu: 0.9570\n",
      "0.98046875\n"
     ]
    },
    {
     "name": "stderr",
     "output_type": "stream",
     "text": [
      "\n"
     ]
    },
    {
     "name": "stdout",
     "output_type": "stream",
     "text": [
      "Epoch 19/99\n"
     ]
    },
    {
     "name": "stderr",
     "output_type": "stream",
     "text": [
      "train: 100%|██████████| 30/30 [00:00<00:00, 224.19it/s,  loss: 0.2566, accu: 1.0000]\n",
      "valid: 100%|██████████| 8/8 [00:00<00:00, 475.77it/s,  loss: 0.3627, accu: 1.0000]"
     ]
    },
    {
     "name": "stdout",
     "output_type": "stream",
     "text": [
      "Summary epoch:\n",
      " - Train loss: 0.2628, accu: 0.9938\n",
      " - Valid loss: 0.3108, accu: 0.9727\n",
      "0.98046875\n"
     ]
    },
    {
     "name": "stderr",
     "output_type": "stream",
     "text": [
      "\n"
     ]
    },
    {
     "name": "stdout",
     "output_type": "stream",
     "text": [
      "Epoch 20/99\n"
     ]
    },
    {
     "name": "stderr",
     "output_type": "stream",
     "text": [
      "train: 100%|██████████| 30/30 [00:00<00:00, 223.54it/s,  loss: 0.2580, accu: 1.0000]\n",
      "valid: 100%|██████████| 8/8 [00:00<00:00, 487.50it/s,  loss: 0.3636, accu: 1.0000]"
     ]
    },
    {
     "name": "stdout",
     "output_type": "stream",
     "text": [
      "Summary epoch:\n",
      " - Train loss: 0.2627, accu: 0.9969\n",
      " - Valid loss: 0.3117, accu: 0.9766\n",
      "0.98046875\n"
     ]
    },
    {
     "name": "stderr",
     "output_type": "stream",
     "text": [
      "\n"
     ]
    },
    {
     "name": "stdout",
     "output_type": "stream",
     "text": [
      "Epoch 21/99\n"
     ]
    },
    {
     "name": "stderr",
     "output_type": "stream",
     "text": [
      "train: 100%|██████████| 30/30 [00:00<00:00, 224.43it/s,  loss: 0.2685, accu: 1.0000]\n",
      "valid: 100%|██████████| 8/8 [00:00<00:00, 472.99it/s,  loss: 0.3630, accu: 1.0000]"
     ]
    },
    {
     "name": "stdout",
     "output_type": "stream",
     "text": [
      "Summary epoch:\n",
      " - Train loss: 0.2628, accu: 0.9927\n",
      " - Valid loss: 0.3116, accu: 0.9766\n",
      "0.98046875\n"
     ]
    },
    {
     "name": "stderr",
     "output_type": "stream",
     "text": [
      "\n"
     ]
    },
    {
     "name": "stdout",
     "output_type": "stream",
     "text": [
      "Epoch 22/99\n"
     ]
    },
    {
     "name": "stderr",
     "output_type": "stream",
     "text": [
      "train: 100%|██████████| 30/30 [00:00<00:00, 225.43it/s,  loss: 0.2664, accu: 1.0000]\n",
      "valid: 100%|██████████| 8/8 [00:00<00:00, 485.97it/s,  loss: 0.3670, accu: 1.0000]"
     ]
    },
    {
     "name": "stdout",
     "output_type": "stream",
     "text": [
      "Summary epoch:\n",
      " - Train loss: 0.2629, accu: 0.9969\n",
      " - Valid loss: 0.3249, accu: 0.9648\n",
      "0.98046875\n"
     ]
    },
    {
     "name": "stderr",
     "output_type": "stream",
     "text": [
      "\n"
     ]
    },
    {
     "name": "stdout",
     "output_type": "stream",
     "text": [
      "Epoch 23/99\n"
     ]
    },
    {
     "name": "stderr",
     "output_type": "stream",
     "text": [
      "train: 100%|██████████| 30/30 [00:00<00:00, 224.18it/s,  loss: 0.2589, accu: 1.0000]\n",
      "valid: 100%|██████████| 8/8 [00:00<00:00, 474.84it/s,  loss: 0.3646, accu: 1.0000]"
     ]
    },
    {
     "name": "stdout",
     "output_type": "stream",
     "text": [
      "Summary epoch:\n",
      " - Train loss: 0.2629, accu: 0.9906\n",
      " - Valid loss: 0.3117, accu: 0.9727\n",
      "0.98046875\n"
     ]
    },
    {
     "name": "stderr",
     "output_type": "stream",
     "text": [
      "\n"
     ]
    },
    {
     "name": "stdout",
     "output_type": "stream",
     "text": [
      "Epoch 24/99\n"
     ]
    },
    {
     "name": "stderr",
     "output_type": "stream",
     "text": [
      "train: 100%|██████████| 30/30 [00:00<00:00, 222.57it/s,  loss: 0.2574, accu: 0.9545]\n",
      "valid: 100%|██████████| 8/8 [00:00<00:00, 482.28it/s,  loss: 0.3618, accu: 1.0000]"
     ]
    },
    {
     "name": "stdout",
     "output_type": "stream",
     "text": [
      "Summary epoch:\n",
      " - Train loss: 0.2627, accu: 0.9954\n",
      " - Valid loss: 0.3180, accu: 0.9688\n",
      "0.98046875\n"
     ]
    },
    {
     "name": "stderr",
     "output_type": "stream",
     "text": [
      "\n"
     ]
    },
    {
     "name": "stdout",
     "output_type": "stream",
     "text": [
      "Epoch 25/99\n"
     ]
    },
    {
     "name": "stderr",
     "output_type": "stream",
     "text": [
      "train: 100%|██████████| 30/30 [00:00<00:00, 216.66it/s,  loss: 0.2763, accu: 1.0000]\n",
      "valid: 100%|██████████| 8/8 [00:00<00:00, 469.94it/s,  loss: 0.3655, accu: 1.0000]"
     ]
    },
    {
     "name": "stdout",
     "output_type": "stream",
     "text": [
      "Summary epoch:\n",
      " - Train loss: 0.2630, accu: 0.9948\n",
      " - Valid loss: 0.3130, accu: 0.9688\n",
      "0.98046875\n"
     ]
    },
    {
     "name": "stderr",
     "output_type": "stream",
     "text": [
      "\n"
     ]
    },
    {
     "name": "stdout",
     "output_type": "stream",
     "text": [
      "Epoch 26/99\n"
     ]
    },
    {
     "name": "stderr",
     "output_type": "stream",
     "text": [
      "train: 100%|██████████| 30/30 [00:00<00:00, 220.43it/s,  loss: 0.2492, accu: 1.0000]\n",
      "valid: 100%|██████████| 8/8 [00:00<00:00, 467.63it/s,  loss: 0.3621, accu: 1.0000]"
     ]
    },
    {
     "name": "stdout",
     "output_type": "stream",
     "text": [
      "Summary epoch:\n",
      " - Train loss: 0.2624, accu: 0.9979\n",
      " - Valid loss: 0.3131, accu: 0.9727\n",
      "0.98046875\n"
     ]
    },
    {
     "name": "stderr",
     "output_type": "stream",
     "text": [
      "\n"
     ]
    },
    {
     "name": "stdout",
     "output_type": "stream",
     "text": [
      "Epoch 27/99\n"
     ]
    },
    {
     "name": "stderr",
     "output_type": "stream",
     "text": [
      "train: 100%|██████████| 30/30 [00:00<00:00, 221.63it/s,  loss: 0.2577, accu: 0.9545]\n",
      "valid: 100%|██████████| 8/8 [00:00<00:00, 478.64it/s,  loss: 0.3617, accu: 1.0000]"
     ]
    },
    {
     "name": "stdout",
     "output_type": "stream",
     "text": [
      "Summary epoch:\n",
      " - Train loss: 0.2627, accu: 0.9954\n",
      " - Valid loss: 0.3140, accu: 0.9688\n",
      "0.98046875\n"
     ]
    },
    {
     "name": "stderr",
     "output_type": "stream",
     "text": [
      "\n"
     ]
    },
    {
     "name": "stdout",
     "output_type": "stream",
     "text": [
      "Epoch 28/99\n"
     ]
    },
    {
     "name": "stderr",
     "output_type": "stream",
     "text": [
      "train: 100%|██████████| 30/30 [00:00<00:00, 222.80it/s,  loss: 0.2649, accu: 1.0000]\n",
      "valid: 100%|██████████| 8/8 [00:00<00:00, 481.41it/s,  loss: 0.3636, accu: 1.0000]"
     ]
    },
    {
     "name": "stdout",
     "output_type": "stream",
     "text": [
      "Summary epoch:\n",
      " - Train loss: 0.2627, accu: 0.9958\n",
      " - Valid loss: 0.3193, accu: 0.9727\n",
      "0.98046875\n"
     ]
    },
    {
     "name": "stderr",
     "output_type": "stream",
     "text": [
      "\n"
     ]
    },
    {
     "name": "stdout",
     "output_type": "stream",
     "text": [
      "Epoch 29/99\n"
     ]
    },
    {
     "name": "stderr",
     "output_type": "stream",
     "text": [
      "train: 100%|██████████| 30/30 [00:00<00:00, 224.30it/s,  loss: 0.2554, accu: 1.0000]\n",
      "valid: 100%|██████████| 8/8 [00:00<00:00, 478.73it/s,  loss: 0.3640, accu: 1.0000]"
     ]
    },
    {
     "name": "stdout",
     "output_type": "stream",
     "text": [
      "Summary epoch:\n",
      " - Train loss: 0.2624, accu: 0.9958\n",
      " - Valid loss: 0.3147, accu: 0.9727\n",
      "0.98046875\n"
     ]
    },
    {
     "name": "stderr",
     "output_type": "stream",
     "text": [
      "\n"
     ]
    },
    {
     "name": "stdout",
     "output_type": "stream",
     "text": [
      "Epoch 30/99\n"
     ]
    },
    {
     "name": "stderr",
     "output_type": "stream",
     "text": [
      "train: 100%|██████████| 30/30 [00:00<00:00, 220.08it/s,  loss: 0.2791, accu: 1.0000]\n",
      "valid: 100%|██████████| 8/8 [00:00<00:00, 484.85it/s,  loss: 0.3651, accu: 1.0000]"
     ]
    },
    {
     "name": "stdout",
     "output_type": "stream",
     "text": [
      "Summary epoch:\n",
      " - Train loss: 0.2627, accu: 0.9969\n",
      " - Valid loss: 0.3127, accu: 0.9688\n",
      "0.98046875\n"
     ]
    },
    {
     "name": "stderr",
     "output_type": "stream",
     "text": [
      "\n"
     ]
    },
    {
     "name": "stdout",
     "output_type": "stream",
     "text": [
      "Epoch 31/99\n"
     ]
    },
    {
     "name": "stderr",
     "output_type": "stream",
     "text": [
      "train: 100%|██████████| 30/30 [00:00<00:00, 222.34it/s,  loss: 0.2495, accu: 0.9545]\n",
      "valid: 100%|██████████| 8/8 [00:00<00:00, 476.08it/s,  loss: 0.3641, accu: 1.0000]"
     ]
    },
    {
     "name": "stdout",
     "output_type": "stream",
     "text": [
      "Summary epoch:\n",
      " - Train loss: 0.2626, accu: 0.9964\n",
      " - Valid loss: 0.3208, accu: 0.9883\n",
      "0.98828125\n"
     ]
    },
    {
     "name": "stderr",
     "output_type": "stream",
     "text": [
      "\n"
     ]
    },
    {
     "name": "stdout",
     "output_type": "stream",
     "text": [
      "Epoch 32/99\n"
     ]
    },
    {
     "name": "stderr",
     "output_type": "stream",
     "text": [
      "train: 100%|██████████| 30/30 [00:00<00:00, 223.26it/s,  loss: 0.2595, accu: 1.0000]\n",
      "valid: 100%|██████████| 8/8 [00:00<00:00, 474.93it/s,  loss: 0.3621, accu: 1.0000]"
     ]
    },
    {
     "name": "stdout",
     "output_type": "stream",
     "text": [
      "Summary epoch:\n",
      " - Train loss: 0.2626, accu: 0.9969\n",
      " - Valid loss: 0.3107, accu: 0.9727\n",
      "0.98828125\n"
     ]
    },
    {
     "name": "stderr",
     "output_type": "stream",
     "text": [
      "\n"
     ]
    },
    {
     "name": "stdout",
     "output_type": "stream",
     "text": [
      "Epoch 33/99\n"
     ]
    },
    {
     "name": "stderr",
     "output_type": "stream",
     "text": [
      "train: 100%|██████████| 30/30 [00:00<00:00, 224.73it/s,  loss: 0.2705, accu: 1.0000]\n",
      "valid: 100%|██████████| 8/8 [00:00<00:00, 488.32it/s,  loss: 0.3635, accu: 1.0000]"
     ]
    },
    {
     "name": "stdout",
     "output_type": "stream",
     "text": [
      "Summary epoch:\n",
      " - Train loss: 0.2626, accu: 0.9958\n",
      " - Valid loss: 0.3094, accu: 0.9844\n",
      "0.98828125\n"
     ]
    },
    {
     "name": "stderr",
     "output_type": "stream",
     "text": [
      "\n"
     ]
    },
    {
     "name": "stdout",
     "output_type": "stream",
     "text": [
      "Epoch 34/99\n"
     ]
    },
    {
     "name": "stderr",
     "output_type": "stream",
     "text": [
      "train: 100%|██████████| 30/30 [00:00<00:00, 224.05it/s,  loss: 0.2532, accu: 1.0000]\n",
      "valid: 100%|██████████| 8/8 [00:00<00:00, 488.31it/s,  loss: 0.3664, accu: 1.0000]"
     ]
    },
    {
     "name": "stdout",
     "output_type": "stream",
     "text": [
      "Summary epoch:\n",
      " - Train loss: 0.2624, accu: 0.9969\n",
      " - Valid loss: 0.3112, accu: 0.9727\n",
      "0.98828125\n"
     ]
    },
    {
     "name": "stderr",
     "output_type": "stream",
     "text": [
      "\n"
     ]
    },
    {
     "name": "stdout",
     "output_type": "stream",
     "text": [
      "Epoch 35/99\n"
     ]
    },
    {
     "name": "stderr",
     "output_type": "stream",
     "text": [
      "train: 100%|██████████| 30/30 [00:00<00:00, 224.78it/s,  loss: 0.2518, accu: 1.0000]\n",
      "valid: 100%|██████████| 8/8 [00:00<00:00, 487.54it/s,  loss: 0.3657, accu: 1.0000]"
     ]
    },
    {
     "name": "stdout",
     "output_type": "stream",
     "text": [
      "Summary epoch:\n",
      " - Train loss: 0.2622, accu: 0.9990\n",
      " - Valid loss: 0.3103, accu: 0.9805\n",
      "0.98828125\n"
     ]
    },
    {
     "name": "stderr",
     "output_type": "stream",
     "text": [
      "\n"
     ]
    },
    {
     "name": "stdout",
     "output_type": "stream",
     "text": [
      "Epoch 36/99\n"
     ]
    },
    {
     "name": "stderr",
     "output_type": "stream",
     "text": [
      "train: 100%|██████████| 30/30 [00:00<00:00, 223.47it/s,  loss: 0.2842, accu: 1.0000]\n",
      "valid: 100%|██████████| 8/8 [00:00<00:00, 484.22it/s,  loss: 0.3668, accu: 1.0000]"
     ]
    },
    {
     "name": "stdout",
     "output_type": "stream",
     "text": [
      "Summary epoch:\n",
      " - Train loss: 0.2627, accu: 0.9948\n",
      " - Valid loss: 0.3142, accu: 0.9688\n",
      "0.98828125\n"
     ]
    },
    {
     "name": "stderr",
     "output_type": "stream",
     "text": [
      "\n"
     ]
    },
    {
     "name": "stdout",
     "output_type": "stream",
     "text": [
      "Epoch 37/99\n"
     ]
    },
    {
     "name": "stderr",
     "output_type": "stream",
     "text": [
      "train: 100%|██████████| 30/30 [00:00<00:00, 223.22it/s,  loss: 0.2603, accu: 1.0000]\n",
      "valid: 100%|██████████| 8/8 [00:00<00:00, 481.73it/s,  loss: 0.3699, accu: 1.0000]"
     ]
    },
    {
     "name": "stdout",
     "output_type": "stream",
     "text": [
      "Summary epoch:\n",
      " - Train loss: 0.2625, accu: 0.9958\n",
      " - Valid loss: 0.3159, accu: 0.9648\n",
      "0.98828125\n"
     ]
    },
    {
     "name": "stderr",
     "output_type": "stream",
     "text": [
      "\n"
     ]
    },
    {
     "name": "stdout",
     "output_type": "stream",
     "text": [
      "Epoch 38/99\n"
     ]
    },
    {
     "name": "stderr",
     "output_type": "stream",
     "text": [
      "train: 100%|██████████| 30/30 [00:00<00:00, 225.63it/s,  loss: 0.2377, accu: 1.0000]\n",
      "valid: 100%|██████████| 8/8 [00:00<00:00, 490.95it/s,  loss: 0.3706, accu: 1.0000]"
     ]
    },
    {
     "name": "stdout",
     "output_type": "stream",
     "text": [
      "Summary epoch:\n",
      " - Train loss: 0.2621, accu: 0.9958\n",
      " - Valid loss: 0.3183, accu: 0.9688\n",
      "0.98828125\n"
     ]
    },
    {
     "name": "stderr",
     "output_type": "stream",
     "text": [
      "\n"
     ]
    },
    {
     "name": "stdout",
     "output_type": "stream",
     "text": [
      "Epoch 39/99\n"
     ]
    },
    {
     "name": "stderr",
     "output_type": "stream",
     "text": [
      "train: 100%|██████████| 30/30 [00:00<00:00, 223.90it/s,  loss: 0.2701, accu: 1.0000]\n",
      "valid: 100%|██████████| 8/8 [00:00<00:00, 480.74it/s,  loss: 0.3696, accu: 1.0000]"
     ]
    },
    {
     "name": "stdout",
     "output_type": "stream",
     "text": [
      "Summary epoch:\n",
      " - Train loss: 0.2626, accu: 0.9969\n",
      " - Valid loss: 0.3218, accu: 0.9531\n",
      "0.98828125\n"
     ]
    },
    {
     "name": "stderr",
     "output_type": "stream",
     "text": [
      "\n"
     ]
    },
    {
     "name": "stdout",
     "output_type": "stream",
     "text": [
      "Epoch 40/99\n"
     ]
    },
    {
     "name": "stderr",
     "output_type": "stream",
     "text": [
      "train: 100%|██████████| 30/30 [00:00<00:00, 222.58it/s,  loss: 0.2750, accu: 0.9545]\n",
      "valid: 100%|██████████| 8/8 [00:00<00:00, 474.29it/s,  loss: 0.3640, accu: 1.0000]"
     ]
    },
    {
     "name": "stdout",
     "output_type": "stream",
     "text": [
      "Summary epoch:\n",
      " - Train loss: 0.2626, accu: 0.9964\n",
      " - Valid loss: 0.3111, accu: 0.9766\n",
      "0.98828125\n"
     ]
    },
    {
     "name": "stderr",
     "output_type": "stream",
     "text": [
      "\n"
     ]
    },
    {
     "name": "stdout",
     "output_type": "stream",
     "text": [
      "Epoch 41/99\n"
     ]
    },
    {
     "name": "stderr",
     "output_type": "stream",
     "text": [
      "train: 100%|██████████| 30/30 [00:00<00:00, 222.76it/s,  loss: 0.2628, accu: 1.0000]\n",
      "valid: 100%|██████████| 8/8 [00:00<00:00, 484.94it/s,  loss: 0.3631, accu: 1.0000]"
     ]
    },
    {
     "name": "stdout",
     "output_type": "stream",
     "text": [
      "Summary epoch:\n",
      " - Train loss: 0.2625, accu: 0.9969\n",
      " - Valid loss: 0.3096, accu: 0.9883\n",
      "0.98828125\n"
     ]
    },
    {
     "name": "stderr",
     "output_type": "stream",
     "text": [
      "\n"
     ]
    },
    {
     "name": "stdout",
     "output_type": "stream",
     "text": [
      "Epoch 42/99\n"
     ]
    },
    {
     "name": "stderr",
     "output_type": "stream",
     "text": [
      "train: 100%|██████████| 30/30 [00:00<00:00, 221.10it/s,  loss: 0.2472, accu: 1.0000]\n",
      "valid: 100%|██████████| 8/8 [00:00<00:00, 486.75it/s,  loss: 0.3663, accu: 1.0000]"
     ]
    },
    {
     "name": "stdout",
     "output_type": "stream",
     "text": [
      "Summary epoch:\n",
      " - Train loss: 0.2622, accu: 0.9979\n",
      " - Valid loss: 0.3109, accu: 0.9766\n",
      "0.98828125\n"
     ]
    },
    {
     "name": "stderr",
     "output_type": "stream",
     "text": [
      "\n"
     ]
    },
    {
     "name": "stdout",
     "output_type": "stream",
     "text": [
      "Epoch 43/99\n"
     ]
    },
    {
     "name": "stderr",
     "output_type": "stream",
     "text": [
      "train: 100%|██████████| 30/30 [00:00<00:00, 223.11it/s,  loss: 0.2696, accu: 1.0000]\n",
      "valid: 100%|██████████| 8/8 [00:00<00:00, 467.58it/s,  loss: 0.3658, accu: 1.0000]"
     ]
    },
    {
     "name": "stdout",
     "output_type": "stream",
     "text": [
      "Summary epoch:\n",
      " - Train loss: 0.2624, accu: 0.9958\n",
      " - Valid loss: 0.3119, accu: 0.9805\n",
      "0.98828125\n"
     ]
    },
    {
     "name": "stderr",
     "output_type": "stream",
     "text": [
      "\n"
     ]
    },
    {
     "name": "stdout",
     "output_type": "stream",
     "text": [
      "Epoch 44/99\n"
     ]
    },
    {
     "name": "stderr",
     "output_type": "stream",
     "text": [
      "train: 100%|██████████| 30/30 [00:00<00:00, 223.94it/s,  loss: 0.2595, accu: 1.0000]\n",
      "valid: 100%|██████████| 8/8 [00:00<00:00, 473.53it/s,  loss: 0.3654, accu: 1.0000]"
     ]
    },
    {
     "name": "stdout",
     "output_type": "stream",
     "text": [
      "Summary epoch:\n",
      " - Train loss: 0.2623, accu: 0.9969\n",
      " - Valid loss: 0.3173, accu: 0.9727\n",
      "0.98828125\n"
     ]
    },
    {
     "name": "stderr",
     "output_type": "stream",
     "text": [
      "\n"
     ]
    },
    {
     "name": "stdout",
     "output_type": "stream",
     "text": [
      "Epoch 45/99\n"
     ]
    },
    {
     "name": "stderr",
     "output_type": "stream",
     "text": [
      "train: 100%|██████████| 30/30 [00:00<00:00, 223.04it/s,  loss: 0.2497, accu: 1.0000]\n",
      "valid: 100%|██████████| 8/8 [00:00<00:00, 474.34it/s,  loss: 0.3673, accu: 1.0000]"
     ]
    },
    {
     "name": "stdout",
     "output_type": "stream",
     "text": [
      "Summary epoch:\n",
      " - Train loss: 0.2623, accu: 0.9958\n",
      " - Valid loss: 0.3118, accu: 0.9766\n",
      "0.98828125\n"
     ]
    },
    {
     "name": "stderr",
     "output_type": "stream",
     "text": [
      "\n"
     ]
    },
    {
     "name": "stdout",
     "output_type": "stream",
     "text": [
      "Epoch 46/99\n"
     ]
    },
    {
     "name": "stderr",
     "output_type": "stream",
     "text": [
      "train: 100%|██████████| 30/30 [00:00<00:00, 222.13it/s,  loss: 0.2797, accu: 1.0000]\n",
      "valid: 100%|██████████| 8/8 [00:00<00:00, 485.19it/s,  loss: 0.3639, accu: 1.0000]"
     ]
    },
    {
     "name": "stdout",
     "output_type": "stream",
     "text": [
      "Summary epoch:\n",
      " - Train loss: 0.2625, accu: 0.9938\n",
      " - Valid loss: 0.3144, accu: 0.9727\n",
      "0.98828125\n"
     ]
    },
    {
     "name": "stderr",
     "output_type": "stream",
     "text": [
      "\n"
     ]
    },
    {
     "name": "stdout",
     "output_type": "stream",
     "text": [
      "Epoch 47/99\n"
     ]
    },
    {
     "name": "stderr",
     "output_type": "stream",
     "text": [
      "train: 100%|██████████| 30/30 [00:00<00:00, 221.63it/s,  loss: 0.2483, accu: 1.0000]\n",
      "valid: 100%|██████████| 8/8 [00:00<00:00, 470.28it/s,  loss: 0.3659, accu: 1.0000]"
     ]
    },
    {
     "name": "stdout",
     "output_type": "stream",
     "text": [
      "Summary epoch:\n",
      " - Train loss: 0.2621, accu: 0.9990\n",
      " - Valid loss: 0.3143, accu: 0.9766\n",
      "0.98828125\n"
     ]
    },
    {
     "name": "stderr",
     "output_type": "stream",
     "text": [
      "\n"
     ]
    },
    {
     "name": "stdout",
     "output_type": "stream",
     "text": [
      "Epoch 48/99\n"
     ]
    },
    {
     "name": "stderr",
     "output_type": "stream",
     "text": [
      "train: 100%|██████████| 30/30 [00:00<00:00, 220.28it/s,  loss: 0.2681, accu: 1.0000]\n",
      "valid: 100%|██████████| 8/8 [00:00<00:00, 484.38it/s,  loss: 0.3686, accu: 1.0000]"
     ]
    },
    {
     "name": "stdout",
     "output_type": "stream",
     "text": [
      "Summary epoch:\n",
      " - Train loss: 0.2626, accu: 0.9958\n",
      " - Valid loss: 0.3117, accu: 0.9766\n",
      "0.98828125\n"
     ]
    },
    {
     "name": "stderr",
     "output_type": "stream",
     "text": [
      "\n"
     ]
    },
    {
     "name": "stdout",
     "output_type": "stream",
     "text": [
      "Epoch 49/99\n"
     ]
    },
    {
     "name": "stderr",
     "output_type": "stream",
     "text": [
      "train: 100%|██████████| 30/30 [00:00<00:00, 209.48it/s,  loss: 0.2730, accu: 1.0000]\n",
      "valid: 100%|██████████| 8/8 [00:00<00:00, 444.74it/s,  loss: 0.3642, accu: 1.0000]"
     ]
    },
    {
     "name": "stdout",
     "output_type": "stream",
     "text": [
      "Summary epoch:\n",
      " - Train loss: 0.2624, accu: 0.9958\n",
      " - Valid loss: 0.3160, accu: 0.9766\n",
      "0.98828125\n"
     ]
    },
    {
     "name": "stderr",
     "output_type": "stream",
     "text": [
      "\n"
     ]
    },
    {
     "name": "stdout",
     "output_type": "stream",
     "text": [
      "Epoch 50/99\n"
     ]
    },
    {
     "name": "stderr",
     "output_type": "stream",
     "text": [
      "train: 100%|██████████| 30/30 [00:00<00:00, 202.09it/s,  loss: 0.2566, accu: 1.0000]\n",
      "valid: 100%|██████████| 8/8 [00:00<00:00, 486.04it/s,  loss: 0.3673, accu: 1.0000]"
     ]
    },
    {
     "name": "stdout",
     "output_type": "stream",
     "text": [
      "Summary epoch:\n",
      " - Train loss: 0.2623, accu: 0.9990\n",
      " - Valid loss: 0.3134, accu: 0.9805\n",
      "0.98828125\n"
     ]
    },
    {
     "name": "stderr",
     "output_type": "stream",
     "text": [
      "\n"
     ]
    },
    {
     "name": "stdout",
     "output_type": "stream",
     "text": [
      "Epoch 51/99\n"
     ]
    },
    {
     "name": "stderr",
     "output_type": "stream",
     "text": [
      "train: 100%|██████████| 30/30 [00:00<00:00, 216.66it/s,  loss: 0.2708, accu: 0.9545]\n",
      "valid: 100%|██████████| 8/8 [00:00<00:00, 467.03it/s,  loss: 0.3691, accu: 1.0000]"
     ]
    },
    {
     "name": "stdout",
     "output_type": "stream",
     "text": [
      "Summary epoch:\n",
      " - Train loss: 0.2624, accu: 0.9933\n",
      " - Valid loss: 0.3151, accu: 0.9688\n",
      "0.98828125\n"
     ]
    },
    {
     "name": "stderr",
     "output_type": "stream",
     "text": [
      "\n"
     ]
    },
    {
     "name": "stdout",
     "output_type": "stream",
     "text": [
      "Epoch 52/99\n"
     ]
    },
    {
     "name": "stderr",
     "output_type": "stream",
     "text": [
      "train: 100%|██████████| 30/30 [00:00<00:00, 218.36it/s,  loss: 0.2669, accu: 1.0000]\n",
      "valid: 100%|██████████| 8/8 [00:00<00:00, 467.59it/s,  loss: 0.3629, accu: 1.0000]"
     ]
    },
    {
     "name": "stdout",
     "output_type": "stream",
     "text": [
      "Summary epoch:\n",
      " - Train loss: 0.2624, accu: 0.9979\n",
      " - Valid loss: 0.3106, accu: 0.9727\n",
      "0.98828125\n"
     ]
    },
    {
     "name": "stderr",
     "output_type": "stream",
     "text": [
      "\n"
     ]
    },
    {
     "name": "stdout",
     "output_type": "stream",
     "text": [
      "Epoch 53/99\n"
     ]
    },
    {
     "name": "stderr",
     "output_type": "stream",
     "text": [
      "train: 100%|██████████| 30/30 [00:00<00:00, 216.56it/s,  loss: 0.2631, accu: 1.0000]\n",
      "valid: 100%|██████████| 8/8 [00:00<00:00, 467.31it/s,  loss: 0.3662, accu: 1.0000]"
     ]
    },
    {
     "name": "stdout",
     "output_type": "stream",
     "text": [
      "Summary epoch:\n",
      " - Train loss: 0.2624, accu: 0.9958\n",
      " - Valid loss: 0.3112, accu: 0.9727\n",
      "0.98828125\n"
     ]
    },
    {
     "name": "stderr",
     "output_type": "stream",
     "text": [
      "\n"
     ]
    },
    {
     "name": "stdout",
     "output_type": "stream",
     "text": [
      "Epoch 54/99\n"
     ]
    },
    {
     "name": "stderr",
     "output_type": "stream",
     "text": [
      "train: 100%|██████████| 30/30 [00:00<00:00, 222.78it/s,  loss: 0.2627, accu: 0.9545]\n",
      "valid: 100%|██████████| 8/8 [00:00<00:00, 471.11it/s,  loss: 0.3648, accu: 1.0000]"
     ]
    },
    {
     "name": "stdout",
     "output_type": "stream",
     "text": [
      "Summary epoch:\n",
      " - Train loss: 0.2623, accu: 0.9964\n",
      " - Valid loss: 0.3129, accu: 0.9766\n",
      "0.98828125\n"
     ]
    },
    {
     "name": "stderr",
     "output_type": "stream",
     "text": [
      "\n"
     ]
    },
    {
     "name": "stdout",
     "output_type": "stream",
     "text": [
      "Epoch 55/99\n"
     ]
    },
    {
     "name": "stderr",
     "output_type": "stream",
     "text": [
      "train: 100%|██████████| 30/30 [00:00<00:00, 218.92it/s,  loss: 0.2619, accu: 1.0000]\n",
      "valid: 100%|██████████| 8/8 [00:00<00:00, 467.94it/s,  loss: 0.3687, accu: 1.0000]"
     ]
    },
    {
     "name": "stdout",
     "output_type": "stream",
     "text": [
      "Summary epoch:\n",
      " - Train loss: 0.2622, accu: 0.9969\n",
      " - Valid loss: 0.3131, accu: 0.9727\n",
      "0.98828125\n"
     ]
    },
    {
     "name": "stderr",
     "output_type": "stream",
     "text": [
      "\n"
     ]
    },
    {
     "name": "stdout",
     "output_type": "stream",
     "text": [
      "Epoch 56/99\n"
     ]
    },
    {
     "name": "stderr",
     "output_type": "stream",
     "text": [
      "train: 100%|██████████| 30/30 [00:00<00:00, 218.38it/s,  loss: 0.2579, accu: 1.0000]\n",
      "valid: 100%|██████████| 8/8 [00:00<00:00, 460.39it/s,  loss: 0.3667, accu: 1.0000]"
     ]
    },
    {
     "name": "stdout",
     "output_type": "stream",
     "text": [
      "Summary epoch:\n",
      " - Train loss: 0.2622, accu: 0.9979\n",
      " - Valid loss: 0.3117, accu: 0.9766\n",
      "0.98828125\n"
     ]
    },
    {
     "name": "stderr",
     "output_type": "stream",
     "text": [
      "\n"
     ]
    },
    {
     "name": "stdout",
     "output_type": "stream",
     "text": [
      "Epoch 57/99\n"
     ]
    },
    {
     "name": "stderr",
     "output_type": "stream",
     "text": [
      "train: 100%|██████████| 30/30 [00:00<00:00, 217.48it/s,  loss: 0.2574, accu: 1.0000]\n",
      "valid: 100%|██████████| 8/8 [00:00<00:00, 459.69it/s,  loss: 0.3626, accu: 1.0000]"
     ]
    },
    {
     "name": "stdout",
     "output_type": "stream",
     "text": [
      "Summary epoch:\n",
      " - Train loss: 0.2622, accu: 0.9990\n",
      " - Valid loss: 0.3205, accu: 0.9492\n",
      "0.98828125\n"
     ]
    },
    {
     "name": "stderr",
     "output_type": "stream",
     "text": [
      "\n"
     ]
    },
    {
     "name": "stdout",
     "output_type": "stream",
     "text": [
      "Epoch 58/99\n"
     ]
    },
    {
     "name": "stderr",
     "output_type": "stream",
     "text": [
      "train: 100%|██████████| 30/30 [00:00<00:00, 218.80it/s,  loss: 0.2629, accu: 1.0000]\n",
      "valid: 100%|██████████| 8/8 [00:00<00:00, 457.66it/s,  loss: 0.3634, accu: 1.0000]"
     ]
    },
    {
     "name": "stdout",
     "output_type": "stream",
     "text": [
      "Summary epoch:\n",
      " - Train loss: 0.2624, accu: 0.9969\n",
      " - Valid loss: 0.3140, accu: 0.9805\n",
      "0.98828125\n"
     ]
    },
    {
     "name": "stderr",
     "output_type": "stream",
     "text": [
      "\n"
     ]
    },
    {
     "name": "stdout",
     "output_type": "stream",
     "text": [
      "Epoch 59/99\n"
     ]
    },
    {
     "name": "stderr",
     "output_type": "stream",
     "text": [
      "train: 100%|██████████| 30/30 [00:00<00:00, 218.08it/s,  loss: 0.2516, accu: 1.0000]\n",
      "valid: 100%|██████████| 8/8 [00:00<00:00, 435.21it/s,  loss: 0.3674, accu: 1.0000]"
     ]
    },
    {
     "name": "stdout",
     "output_type": "stream",
     "text": [
      "Summary epoch:\n",
      " - Train loss: 0.2621, accu: 0.9969\n",
      " - Valid loss: 0.3115, accu: 0.9805\n",
      "0.98828125\n"
     ]
    },
    {
     "name": "stderr",
     "output_type": "stream",
     "text": [
      "\n"
     ]
    },
    {
     "name": "stdout",
     "output_type": "stream",
     "text": [
      "Epoch 60/99\n"
     ]
    },
    {
     "name": "stderr",
     "output_type": "stream",
     "text": [
      "train: 100%|██████████| 30/30 [00:00<00:00, 219.08it/s,  loss: 0.2818, accu: 1.0000]\n",
      "valid: 100%|██████████| 8/8 [00:00<00:00, 455.53it/s,  loss: 0.3665, accu: 1.0000]"
     ]
    },
    {
     "name": "stdout",
     "output_type": "stream",
     "text": [
      "Summary epoch:\n",
      " - Train loss: 0.2625, accu: 0.9958\n",
      " - Valid loss: 0.3117, accu: 0.9688\n",
      "0.98828125\n"
     ]
    },
    {
     "name": "stderr",
     "output_type": "stream",
     "text": [
      "\n"
     ]
    },
    {
     "name": "stdout",
     "output_type": "stream",
     "text": [
      "Epoch 61/99\n"
     ]
    },
    {
     "name": "stderr",
     "output_type": "stream",
     "text": [
      "train: 100%|██████████| 30/30 [00:00<00:00, 218.03it/s,  loss: 0.2686, accu: 1.0000]\n",
      "valid: 100%|██████████| 8/8 [00:00<00:00, 468.69it/s,  loss: 0.3700, accu: 1.0000]"
     ]
    },
    {
     "name": "stdout",
     "output_type": "stream",
     "text": [
      "Summary epoch:\n",
      " - Train loss: 0.2623, accu: 0.9990\n",
      " - Valid loss: 0.3127, accu: 0.9805\n",
      "0.98828125\n"
     ]
    },
    {
     "name": "stderr",
     "output_type": "stream",
     "text": [
      "\n"
     ]
    },
    {
     "name": "stdout",
     "output_type": "stream",
     "text": [
      "Epoch 62/99\n"
     ]
    },
    {
     "name": "stderr",
     "output_type": "stream",
     "text": [
      "train: 100%|██████████| 30/30 [00:00<00:00, 219.67it/s,  loss: 0.2681, accu: 1.0000]\n",
      "valid: 100%|██████████| 8/8 [00:00<00:00, 456.62it/s,  loss: 0.3678, accu: 1.0000]"
     ]
    },
    {
     "name": "stdout",
     "output_type": "stream",
     "text": [
      "Summary epoch:\n",
      " - Train loss: 0.2622, accu: 0.9990\n",
      " - Valid loss: 0.3119, accu: 0.9766\n",
      "0.98828125\n"
     ]
    },
    {
     "name": "stderr",
     "output_type": "stream",
     "text": [
      "\n"
     ]
    },
    {
     "name": "stdout",
     "output_type": "stream",
     "text": [
      "Epoch 63/99\n"
     ]
    },
    {
     "name": "stderr",
     "output_type": "stream",
     "text": [
      "train: 100%|██████████| 30/30 [00:00<00:00, 219.63it/s,  loss: 0.2434, accu: 1.0000]\n",
      "valid: 100%|██████████| 8/8 [00:00<00:00, 460.65it/s,  loss: 0.3680, accu: 1.0000]"
     ]
    },
    {
     "name": "stdout",
     "output_type": "stream",
     "text": [
      "Summary epoch:\n",
      " - Train loss: 0.2620, accu: 0.9979\n",
      " - Valid loss: 0.3149, accu: 0.9766\n",
      "0.98828125\n"
     ]
    },
    {
     "name": "stderr",
     "output_type": "stream",
     "text": [
      "\n"
     ]
    },
    {
     "name": "stdout",
     "output_type": "stream",
     "text": [
      "Epoch 64/99\n"
     ]
    },
    {
     "name": "stderr",
     "output_type": "stream",
     "text": [
      "train: 100%|██████████| 30/30 [00:00<00:00, 219.84it/s,  loss: 0.2765, accu: 1.0000]\n",
      "valid: 100%|██████████| 8/8 [00:00<00:00, 463.52it/s,  loss: 0.3620, accu: 1.0000]"
     ]
    },
    {
     "name": "stdout",
     "output_type": "stream",
     "text": [
      "Summary epoch:\n",
      " - Train loss: 0.2625, accu: 0.9969\n",
      " - Valid loss: 0.3280, accu: 0.9414\n",
      "0.98828125\n"
     ]
    },
    {
     "name": "stderr",
     "output_type": "stream",
     "text": [
      "\n"
     ]
    },
    {
     "name": "stdout",
     "output_type": "stream",
     "text": [
      "Epoch 65/99\n"
     ]
    },
    {
     "name": "stderr",
     "output_type": "stream",
     "text": [
      "train: 100%|██████████| 30/30 [00:00<00:00, 211.29it/s,  loss: 0.2680, accu: 1.0000]\n",
      "valid: 100%|██████████| 8/8 [00:00<00:00, 470.23it/s,  loss: 0.3666, accu: 1.0000]"
     ]
    },
    {
     "name": "stdout",
     "output_type": "stream",
     "text": [
      "Summary epoch:\n",
      " - Train loss: 0.2624, accu: 0.9969\n",
      " - Valid loss: 0.3119, accu: 0.9805\n",
      "0.98828125\n"
     ]
    },
    {
     "name": "stderr",
     "output_type": "stream",
     "text": [
      "\n"
     ]
    },
    {
     "name": "stdout",
     "output_type": "stream",
     "text": [
      "Epoch 66/99\n"
     ]
    },
    {
     "name": "stderr",
     "output_type": "stream",
     "text": [
      "train: 100%|██████████| 30/30 [00:00<00:00, 220.35it/s,  loss: 0.2720, accu: 1.0000]\n",
      "valid: 100%|██████████| 8/8 [00:00<00:00, 470.31it/s,  loss: 0.3654, accu: 1.0000]"
     ]
    },
    {
     "name": "stdout",
     "output_type": "stream",
     "text": [
      "Summary epoch:\n",
      " - Train loss: 0.2623, accu: 0.9990\n",
      " - Valid loss: 0.3105, accu: 0.9766\n",
      "0.98828125\n"
     ]
    },
    {
     "name": "stderr",
     "output_type": "stream",
     "text": [
      "\n"
     ]
    },
    {
     "name": "stdout",
     "output_type": "stream",
     "text": [
      "Epoch 67/99\n"
     ]
    },
    {
     "name": "stderr",
     "output_type": "stream",
     "text": [
      "train: 100%|██████████| 30/30 [00:00<00:00, 221.28it/s,  loss: 0.2724, accu: 1.0000]\n",
      "valid: 100%|██████████| 8/8 [00:00<00:00, 475.69it/s,  loss: 0.3650, accu: 1.0000]"
     ]
    },
    {
     "name": "stdout",
     "output_type": "stream",
     "text": [
      "Summary epoch:\n",
      " - Train loss: 0.2624, accu: 0.9979\n",
      " - Valid loss: 0.3112, accu: 0.9766\n",
      "0.98828125\n"
     ]
    },
    {
     "name": "stderr",
     "output_type": "stream",
     "text": [
      "\n"
     ]
    },
    {
     "name": "stdout",
     "output_type": "stream",
     "text": [
      "Epoch 68/99\n"
     ]
    },
    {
     "name": "stderr",
     "output_type": "stream",
     "text": [
      "train: 100%|██████████| 30/30 [00:00<00:00, 215.80it/s,  loss: 0.2443, accu: 1.0000]\n",
      "valid: 100%|██████████| 8/8 [00:00<00:00, 434.60it/s,  loss: 0.3685, accu: 1.0000]"
     ]
    },
    {
     "name": "stdout",
     "output_type": "stream",
     "text": [
      "Summary epoch:\n",
      " - Train loss: 0.2621, accu: 0.9969\n",
      " - Valid loss: 0.3130, accu: 0.9805\n",
      "0.98828125\n"
     ]
    },
    {
     "name": "stderr",
     "output_type": "stream",
     "text": [
      "\n"
     ]
    },
    {
     "name": "stdout",
     "output_type": "stream",
     "text": [
      "Epoch 69/99\n"
     ]
    },
    {
     "name": "stderr",
     "output_type": "stream",
     "text": [
      "train: 100%|██████████| 30/30 [00:00<00:00, 215.81it/s,  loss: 0.2663, accu: 1.0000]\n",
      "valid: 100%|██████████| 8/8 [00:00<00:00, 469.26it/s,  loss: 0.3653, accu: 1.0000]"
     ]
    },
    {
     "name": "stdout",
     "output_type": "stream",
     "text": [
      "Summary epoch:\n",
      " - Train loss: 0.2623, accu: 0.9969\n",
      " - Valid loss: 0.3106, accu: 0.9805\n",
      "0.98828125\n"
     ]
    },
    {
     "name": "stderr",
     "output_type": "stream",
     "text": [
      "\n"
     ]
    },
    {
     "name": "stdout",
     "output_type": "stream",
     "text": [
      "Epoch 70/99\n"
     ]
    },
    {
     "name": "stderr",
     "output_type": "stream",
     "text": [
      "train: 100%|██████████| 30/30 [00:00<00:00, 219.04it/s,  loss: 0.2463, accu: 1.0000]\n",
      "valid: 100%|██████████| 8/8 [00:00<00:00, 463.72it/s,  loss: 0.3663, accu: 1.0000]"
     ]
    },
    {
     "name": "stdout",
     "output_type": "stream",
     "text": [
      "Summary epoch:\n",
      " - Train loss: 0.2620, accu: 0.9990\n",
      " - Valid loss: 0.3138, accu: 0.9727\n",
      "0.98828125\n"
     ]
    },
    {
     "name": "stderr",
     "output_type": "stream",
     "text": [
      "\n"
     ]
    },
    {
     "name": "stdout",
     "output_type": "stream",
     "text": [
      "Epoch 71/99\n"
     ]
    },
    {
     "name": "stderr",
     "output_type": "stream",
     "text": [
      "train: 100%|██████████| 30/30 [00:00<00:00, 219.58it/s,  loss: 0.2799, accu: 1.0000]\n",
      "valid: 100%|██████████| 8/8 [00:00<00:00, 466.89it/s,  loss: 0.3659, accu: 1.0000]"
     ]
    },
    {
     "name": "stdout",
     "output_type": "stream",
     "text": [
      "Summary epoch:\n",
      " - Train loss: 0.2623, accu: 0.9979\n",
      " - Valid loss: 0.3147, accu: 0.9805\n",
      "0.98828125\n"
     ]
    },
    {
     "name": "stderr",
     "output_type": "stream",
     "text": [
      "\n"
     ]
    },
    {
     "name": "stdout",
     "output_type": "stream",
     "text": [
      "Epoch 72/99\n"
     ]
    },
    {
     "name": "stderr",
     "output_type": "stream",
     "text": [
      "train: 100%|██████████| 30/30 [00:00<00:00, 219.06it/s,  loss: 0.2608, accu: 1.0000]\n",
      "valid: 100%|██████████| 8/8 [00:00<00:00, 464.96it/s,  loss: 0.3692, accu: 1.0000]"
     ]
    },
    {
     "name": "stdout",
     "output_type": "stream",
     "text": [
      "Summary epoch:\n",
      " - Train loss: 0.2623, accu: 0.9979\n",
      " - Valid loss: 0.3113, accu: 0.9766\n",
      "0.98828125\n"
     ]
    },
    {
     "name": "stderr",
     "output_type": "stream",
     "text": [
      "\n"
     ]
    },
    {
     "name": "stdout",
     "output_type": "stream",
     "text": [
      "Epoch 73/99\n"
     ]
    },
    {
     "name": "stderr",
     "output_type": "stream",
     "text": [
      "train: 100%|██████████| 30/30 [00:00<00:00, 218.70it/s,  loss: 0.2473, accu: 1.0000]\n",
      "valid: 100%|██████████| 8/8 [00:00<00:00, 462.81it/s,  loss: 0.3704, accu: 1.0000]"
     ]
    },
    {
     "name": "stdout",
     "output_type": "stream",
     "text": [
      "Summary epoch:\n",
      " - Train loss: 0.2621, accu: 0.9990\n",
      " - Valid loss: 0.3113, accu: 0.9766\n",
      "0.98828125\n"
     ]
    },
    {
     "name": "stderr",
     "output_type": "stream",
     "text": [
      "\n"
     ]
    },
    {
     "name": "stdout",
     "output_type": "stream",
     "text": [
      "Epoch 74/99\n"
     ]
    },
    {
     "name": "stderr",
     "output_type": "stream",
     "text": [
      "train: 100%|██████████| 30/30 [00:00<00:00, 220.04it/s,  loss: 0.2653, accu: 1.0000]\n",
      "valid: 100%|██████████| 8/8 [00:00<00:00, 475.51it/s,  loss: 0.3663, accu: 1.0000]"
     ]
    },
    {
     "name": "stdout",
     "output_type": "stream",
     "text": [
      "Summary epoch:\n",
      " - Train loss: 0.2622, accu: 1.0000\n",
      " - Valid loss: 0.3127, accu: 0.9805\n",
      "0.98828125\n"
     ]
    },
    {
     "name": "stderr",
     "output_type": "stream",
     "text": [
      "\n"
     ]
    },
    {
     "name": "stdout",
     "output_type": "stream",
     "text": [
      "Epoch 75/99\n"
     ]
    },
    {
     "name": "stderr",
     "output_type": "stream",
     "text": [
      "train: 100%|██████████| 30/30 [00:00<00:00, 222.87it/s,  loss: 0.2571, accu: 1.0000]\n",
      "valid: 100%|██████████| 8/8 [00:00<00:00, 478.45it/s,  loss: 0.3661, accu: 1.0000]"
     ]
    },
    {
     "name": "stdout",
     "output_type": "stream",
     "text": [
      "Summary epoch:\n",
      " - Train loss: 0.2622, accu: 0.9990\n",
      " - Valid loss: 0.3157, accu: 0.9766\n",
      "0.98828125\n"
     ]
    },
    {
     "name": "stderr",
     "output_type": "stream",
     "text": [
      "\n"
     ]
    },
    {
     "name": "stdout",
     "output_type": "stream",
     "text": [
      "Epoch 76/99\n"
     ]
    },
    {
     "name": "stderr",
     "output_type": "stream",
     "text": [
      "train: 100%|██████████| 30/30 [00:00<00:00, 223.00it/s,  loss: 0.2436, accu: 1.0000]\n",
      "valid: 100%|██████████| 8/8 [00:00<00:00, 475.16it/s,  loss: 0.3656, accu: 1.0000]"
     ]
    },
    {
     "name": "stdout",
     "output_type": "stream",
     "text": [
      "Summary epoch:\n",
      " - Train loss: 0.2620, accu: 0.9958\n",
      " - Valid loss: 0.3103, accu: 0.9805\n",
      "0.98828125\n"
     ]
    },
    {
     "name": "stderr",
     "output_type": "stream",
     "text": [
      "\n"
     ]
    },
    {
     "name": "stdout",
     "output_type": "stream",
     "text": [
      "Epoch 77/99\n"
     ]
    },
    {
     "name": "stderr",
     "output_type": "stream",
     "text": [
      "train: 100%|██████████| 30/30 [00:00<00:00, 223.83it/s,  loss: 0.2528, accu: 1.0000]\n",
      "valid: 100%|██████████| 8/8 [00:00<00:00, 464.65it/s,  loss: 0.3731, accu: 1.0000]"
     ]
    },
    {
     "name": "stdout",
     "output_type": "stream",
     "text": [
      "Summary epoch:\n",
      " - Train loss: 0.2621, accu: 0.9979\n",
      " - Valid loss: 0.3137, accu: 0.9727\n",
      "0.98828125\n"
     ]
    },
    {
     "name": "stderr",
     "output_type": "stream",
     "text": [
      "\n"
     ]
    },
    {
     "name": "stdout",
     "output_type": "stream",
     "text": [
      "Epoch 78/99\n"
     ]
    },
    {
     "name": "stderr",
     "output_type": "stream",
     "text": [
      "train: 100%|██████████| 30/30 [00:00<00:00, 225.36it/s,  loss: 0.2494, accu: 1.0000]\n",
      "valid: 100%|██████████| 8/8 [00:00<00:00, 465.67it/s,  loss: 0.3685, accu: 1.0000]"
     ]
    },
    {
     "name": "stdout",
     "output_type": "stream",
     "text": [
      "Summary epoch:\n",
      " - Train loss: 0.2621, accu: 0.9979\n",
      " - Valid loss: 0.3131, accu: 0.9727\n",
      "0.98828125\n"
     ]
    },
    {
     "name": "stderr",
     "output_type": "stream",
     "text": [
      "\n"
     ]
    },
    {
     "name": "stdout",
     "output_type": "stream",
     "text": [
      "Epoch 79/99\n"
     ]
    },
    {
     "name": "stderr",
     "output_type": "stream",
     "text": [
      "train: 100%|██████████| 30/30 [00:00<00:00, 221.16it/s,  loss: 0.2441, accu: 1.0000]\n",
      "valid: 100%|██████████| 8/8 [00:00<00:00, 489.14it/s,  loss: 0.3662, accu: 1.0000]"
     ]
    },
    {
     "name": "stdout",
     "output_type": "stream",
     "text": [
      "Summary epoch:\n",
      " - Train loss: 0.2622, accu: 0.9948\n",
      " - Valid loss: 0.3395, accu: 0.9141\n",
      "0.98828125\n"
     ]
    },
    {
     "name": "stderr",
     "output_type": "stream",
     "text": [
      "\n"
     ]
    },
    {
     "name": "stdout",
     "output_type": "stream",
     "text": [
      "Epoch 80/99\n"
     ]
    },
    {
     "name": "stderr",
     "output_type": "stream",
     "text": [
      "train: 100%|██████████| 30/30 [00:00<00:00, 224.36it/s,  loss: 0.2710, accu: 1.0000]\n",
      "valid: 100%|██████████| 8/8 [00:00<00:00, 479.50it/s,  loss: 0.3670, accu: 1.0000]"
     ]
    },
    {
     "name": "stdout",
     "output_type": "stream",
     "text": [
      "Summary epoch:\n",
      " - Train loss: 0.2622, accu: 0.9969\n",
      " - Valid loss: 0.3430, accu: 0.9219\n",
      "0.98828125\n"
     ]
    },
    {
     "name": "stderr",
     "output_type": "stream",
     "text": [
      "\n"
     ]
    },
    {
     "name": "stdout",
     "output_type": "stream",
     "text": [
      "Epoch 81/99\n"
     ]
    },
    {
     "name": "stderr",
     "output_type": "stream",
     "text": [
      "train: 100%|██████████| 30/30 [00:00<00:00, 225.28it/s,  loss: 0.2495, accu: 1.0000]\n",
      "valid: 100%|██████████| 8/8 [00:00<00:00, 474.19it/s,  loss: 0.3704, accu: 1.0000]"
     ]
    },
    {
     "name": "stdout",
     "output_type": "stream",
     "text": [
      "Summary epoch:\n",
      " - Train loss: 0.2620, accu: 0.9958\n",
      " - Valid loss: 0.3287, accu: 0.9453\n",
      "0.98828125\n"
     ]
    },
    {
     "name": "stderr",
     "output_type": "stream",
     "text": [
      "\n"
     ]
    },
    {
     "name": "stdout",
     "output_type": "stream",
     "text": [
      "Epoch 82/99\n"
     ]
    },
    {
     "name": "stderr",
     "output_type": "stream",
     "text": [
      "train: 100%|██████████| 30/30 [00:00<00:00, 222.64it/s,  loss: 0.2675, accu: 1.0000]\n",
      "valid: 100%|██████████| 8/8 [00:00<00:00, 396.82it/s,  loss: 0.3620, accu: 1.0000]"
     ]
    },
    {
     "name": "stdout",
     "output_type": "stream",
     "text": [
      "Summary epoch:\n",
      " - Train loss: 0.2622, accu: 1.0000\n",
      " - Valid loss: 0.3108, accu: 0.9727\n",
      "0.98828125\n"
     ]
    },
    {
     "name": "stderr",
     "output_type": "stream",
     "text": [
      "\n"
     ]
    },
    {
     "name": "stdout",
     "output_type": "stream",
     "text": [
      "Epoch 83/99\n"
     ]
    },
    {
     "name": "stderr",
     "output_type": "stream",
     "text": [
      "train: 100%|██████████| 30/30 [00:00<00:00, 204.53it/s,  loss: 0.2604, accu: 1.0000]\n",
      "valid: 100%|██████████| 8/8 [00:00<00:00, 474.70it/s,  loss: 0.3689, accu: 1.0000]"
     ]
    },
    {
     "name": "stdout",
     "output_type": "stream",
     "text": [
      "Summary epoch:\n",
      " - Train loss: 0.2621, accu: 0.9969\n",
      " - Valid loss: 0.3174, accu: 0.9648\n",
      "0.98828125\n"
     ]
    },
    {
     "name": "stderr",
     "output_type": "stream",
     "text": [
      "\n"
     ]
    },
    {
     "name": "stdout",
     "output_type": "stream",
     "text": [
      "Epoch 84/99\n"
     ]
    },
    {
     "name": "stderr",
     "output_type": "stream",
     "text": [
      "train: 100%|██████████| 30/30 [00:00<00:00, 222.14it/s,  loss: 0.2588, accu: 1.0000]\n",
      "valid: 100%|██████████| 8/8 [00:00<00:00, 468.93it/s,  loss: 0.3690, accu: 1.0000]"
     ]
    },
    {
     "name": "stdout",
     "output_type": "stream",
     "text": [
      "Summary epoch:\n",
      " - Train loss: 0.2622, accu: 1.0000\n",
      " - Valid loss: 0.3229, accu: 0.9648\n",
      "0.98828125\n"
     ]
    },
    {
     "name": "stderr",
     "output_type": "stream",
     "text": [
      "\n"
     ]
    },
    {
     "name": "stdout",
     "output_type": "stream",
     "text": [
      "Epoch 85/99\n"
     ]
    },
    {
     "name": "stderr",
     "output_type": "stream",
     "text": [
      "train: 100%|██████████| 30/30 [00:00<00:00, 222.42it/s,  loss: 0.2752, accu: 1.0000]\n",
      "valid: 100%|██████████| 8/8 [00:00<00:00, 480.79it/s,  loss: 0.3648, accu: 1.0000]"
     ]
    },
    {
     "name": "stdout",
     "output_type": "stream",
     "text": [
      "Summary epoch:\n",
      " - Train loss: 0.2623, accu: 0.9979\n",
      " - Valid loss: 0.3116, accu: 0.9727\n",
      "0.98828125\n"
     ]
    },
    {
     "name": "stderr",
     "output_type": "stream",
     "text": [
      "\n"
     ]
    },
    {
     "name": "stdout",
     "output_type": "stream",
     "text": [
      "Epoch 86/99\n"
     ]
    },
    {
     "name": "stderr",
     "output_type": "stream",
     "text": [
      "train: 100%|██████████| 30/30 [00:00<00:00, 223.98it/s,  loss: 0.2530, accu: 1.0000]\n",
      "valid: 100%|██████████| 8/8 [00:00<00:00, 470.30it/s,  loss: 0.3683, accu: 1.0000]"
     ]
    },
    {
     "name": "stdout",
     "output_type": "stream",
     "text": [
      "Summary epoch:\n",
      " - Train loss: 0.2622, accu: 0.9948\n",
      " - Valid loss: 0.3200, accu: 0.9727\n",
      "0.98828125\n"
     ]
    },
    {
     "name": "stderr",
     "output_type": "stream",
     "text": [
      "\n"
     ]
    },
    {
     "name": "stdout",
     "output_type": "stream",
     "text": [
      "Epoch 87/99\n"
     ]
    },
    {
     "name": "stderr",
     "output_type": "stream",
     "text": [
      "train: 100%|██████████| 30/30 [00:00<00:00, 223.37it/s,  loss: 0.2619, accu: 1.0000]\n",
      "valid: 100%|██████████| 8/8 [00:00<00:00, 468.00it/s,  loss: 0.3651, accu: 1.0000]"
     ]
    },
    {
     "name": "stdout",
     "output_type": "stream",
     "text": [
      "Summary epoch:\n",
      " - Train loss: 0.2622, accu: 0.9979\n",
      " - Valid loss: 0.3243, accu: 0.9180\n",
      "0.98828125\n"
     ]
    },
    {
     "name": "stderr",
     "output_type": "stream",
     "text": [
      "\n"
     ]
    },
    {
     "name": "stdout",
     "output_type": "stream",
     "text": [
      "Epoch 88/99\n"
     ]
    },
    {
     "name": "stderr",
     "output_type": "stream",
     "text": [
      "train: 100%|██████████| 30/30 [00:00<00:00, 221.08it/s,  loss: 0.2642, accu: 1.0000]\n",
      "valid: 100%|██████████| 8/8 [00:00<00:00, 471.42it/s,  loss: 0.3678, accu: 1.0000]"
     ]
    },
    {
     "name": "stdout",
     "output_type": "stream",
     "text": [
      "Summary epoch:\n",
      " - Train loss: 0.2622, accu: 0.9990\n",
      " - Valid loss: 0.3133, accu: 0.9766\n",
      "0.98828125\n"
     ]
    },
    {
     "name": "stderr",
     "output_type": "stream",
     "text": [
      "\n"
     ]
    },
    {
     "name": "stdout",
     "output_type": "stream",
     "text": [
      "Epoch 89/99\n"
     ]
    },
    {
     "name": "stderr",
     "output_type": "stream",
     "text": [
      "train: 100%|██████████| 30/30 [00:00<00:00, 223.34it/s,  loss: 0.2609, accu: 1.0000]\n",
      "valid: 100%|██████████| 8/8 [00:00<00:00, 479.77it/s,  loss: 0.3649, accu: 1.0000]"
     ]
    },
    {
     "name": "stdout",
     "output_type": "stream",
     "text": [
      "Summary epoch:\n",
      " - Train loss: 0.2622, accu: 0.9969\n",
      " - Valid loss: 0.3099, accu: 0.9727\n",
      "0.98828125\n"
     ]
    },
    {
     "name": "stderr",
     "output_type": "stream",
     "text": [
      "\n"
     ]
    },
    {
     "name": "stdout",
     "output_type": "stream",
     "text": [
      "Epoch 90/99\n"
     ]
    },
    {
     "name": "stderr",
     "output_type": "stream",
     "text": [
      "train: 100%|██████████| 30/30 [00:00<00:00, 222.04it/s,  loss: 0.2584, accu: 1.0000]\n",
      "valid: 100%|██████████| 8/8 [00:00<00:00, 483.16it/s,  loss: 0.3663, accu: 1.0000]"
     ]
    },
    {
     "name": "stdout",
     "output_type": "stream",
     "text": [
      "Summary epoch:\n",
      " - Train loss: 0.2621, accu: 1.0000\n",
      " - Valid loss: 0.3112, accu: 0.9766\n",
      "0.98828125\n"
     ]
    },
    {
     "name": "stderr",
     "output_type": "stream",
     "text": [
      "\n"
     ]
    },
    {
     "name": "stdout",
     "output_type": "stream",
     "text": [
      "Epoch 91/99\n"
     ]
    },
    {
     "name": "stderr",
     "output_type": "stream",
     "text": [
      "train: 100%|██████████| 30/30 [00:00<00:00, 221.87it/s,  loss: 0.2695, accu: 0.9545]\n",
      "valid: 100%|██████████| 8/8 [00:00<00:00, 467.69it/s,  loss: 0.3645, accu: 1.0000]"
     ]
    },
    {
     "name": "stdout",
     "output_type": "stream",
     "text": [
      "Summary epoch:\n",
      " - Train loss: 0.2622, accu: 0.9954\n",
      " - Valid loss: 0.3112, accu: 0.9766\n",
      "0.98828125\n"
     ]
    },
    {
     "name": "stderr",
     "output_type": "stream",
     "text": [
      "\n"
     ]
    },
    {
     "name": "stdout",
     "output_type": "stream",
     "text": [
      "Epoch 92/99\n"
     ]
    },
    {
     "name": "stderr",
     "output_type": "stream",
     "text": [
      "train: 100%|██████████| 30/30 [00:00<00:00, 222.26it/s,  loss: 0.2602, accu: 1.0000]\n",
      "valid: 100%|██████████| 8/8 [00:00<00:00, 461.17it/s,  loss: 0.3683, accu: 1.0000]"
     ]
    },
    {
     "name": "stdout",
     "output_type": "stream",
     "text": [
      "Summary epoch:\n",
      " - Train loss: 0.2621, accu: 0.9979\n",
      " - Valid loss: 0.3113, accu: 0.9766\n",
      "0.98828125\n"
     ]
    },
    {
     "name": "stderr",
     "output_type": "stream",
     "text": [
      "\n"
     ]
    },
    {
     "name": "stdout",
     "output_type": "stream",
     "text": [
      "Epoch 93/99\n"
     ]
    },
    {
     "name": "stderr",
     "output_type": "stream",
     "text": [
      "train: 100%|██████████| 30/30 [00:00<00:00, 220.93it/s,  loss: 0.2534, accu: 1.0000]\n",
      "valid: 100%|██████████| 8/8 [00:00<00:00, 475.19it/s,  loss: 0.3657, accu: 1.0000]"
     ]
    },
    {
     "name": "stdout",
     "output_type": "stream",
     "text": [
      "Summary epoch:\n",
      " - Train loss: 0.2621, accu: 0.9969\n",
      " - Valid loss: 0.3116, accu: 0.9727\n",
      "0.98828125\n"
     ]
    },
    {
     "name": "stderr",
     "output_type": "stream",
     "text": [
      "\n"
     ]
    },
    {
     "name": "stdout",
     "output_type": "stream",
     "text": [
      "Epoch 94/99\n"
     ]
    },
    {
     "name": "stderr",
     "output_type": "stream",
     "text": [
      "train: 100%|██████████| 30/30 [00:00<00:00, 221.79it/s,  loss: 0.2697, accu: 1.0000]\n",
      "valid: 100%|██████████| 8/8 [00:00<00:00, 460.09it/s,  loss: 0.3661, accu: 1.0000]"
     ]
    },
    {
     "name": "stdout",
     "output_type": "stream",
     "text": [
      "Summary epoch:\n",
      " - Train loss: 0.2623, accu: 0.9979\n",
      " - Valid loss: 0.3121, accu: 0.9727\n",
      "0.98828125\n"
     ]
    },
    {
     "name": "stderr",
     "output_type": "stream",
     "text": [
      "\n"
     ]
    },
    {
     "name": "stdout",
     "output_type": "stream",
     "text": [
      "Epoch 95/99\n"
     ]
    },
    {
     "name": "stderr",
     "output_type": "stream",
     "text": [
      "train: 100%|██████████| 30/30 [00:00<00:00, 222.71it/s,  loss: 0.2448, accu: 1.0000]\n",
      "valid: 100%|██████████| 8/8 [00:00<00:00, 476.06it/s,  loss: 0.3660, accu: 1.0000]"
     ]
    },
    {
     "name": "stdout",
     "output_type": "stream",
     "text": [
      "Summary epoch:\n",
      " - Train loss: 0.2619, accu: 0.9969\n",
      " - Valid loss: 0.3182, accu: 0.9453\n",
      "0.98828125\n"
     ]
    },
    {
     "name": "stderr",
     "output_type": "stream",
     "text": [
      "\n"
     ]
    },
    {
     "name": "stdout",
     "output_type": "stream",
     "text": [
      "Epoch 96/99\n"
     ]
    },
    {
     "name": "stderr",
     "output_type": "stream",
     "text": [
      "train: 100%|██████████| 30/30 [00:00<00:00, 221.77it/s,  loss: 0.2627, accu: 1.0000]\n",
      "valid: 100%|██████████| 8/8 [00:00<00:00, 469.27it/s,  loss: 0.3647, accu: 1.0000]"
     ]
    },
    {
     "name": "stdout",
     "output_type": "stream",
     "text": [
      "Summary epoch:\n",
      " - Train loss: 0.2622, accu: 0.9990\n",
      " - Valid loss: 0.3156, accu: 0.9805\n",
      "0.98828125\n"
     ]
    },
    {
     "name": "stderr",
     "output_type": "stream",
     "text": [
      "\n"
     ]
    },
    {
     "name": "stdout",
     "output_type": "stream",
     "text": [
      "Epoch 97/99\n"
     ]
    },
    {
     "name": "stderr",
     "output_type": "stream",
     "text": [
      "train: 100%|██████████| 30/30 [00:00<00:00, 219.13it/s,  loss: 0.2695, accu: 1.0000]\n",
      "valid: 100%|██████████| 8/8 [00:00<00:00, 458.45it/s,  loss: 0.3707, accu: 1.0000]"
     ]
    },
    {
     "name": "stdout",
     "output_type": "stream",
     "text": [
      "Summary epoch:\n",
      " - Train loss: 0.2623, accu: 0.9969\n",
      " - Valid loss: 0.3138, accu: 0.9688\n",
      "0.98828125\n"
     ]
    },
    {
     "name": "stderr",
     "output_type": "stream",
     "text": [
      "\n"
     ]
    },
    {
     "name": "stdout",
     "output_type": "stream",
     "text": [
      "Epoch 98/99\n"
     ]
    },
    {
     "name": "stderr",
     "output_type": "stream",
     "text": [
      "train: 100%|██████████| 30/30 [00:00<00:00, 218.79it/s,  loss: 0.2674, accu: 1.0000]\n",
      "valid: 100%|██████████| 8/8 [00:00<00:00, 457.08it/s,  loss: 0.3661, accu: 1.0000]"
     ]
    },
    {
     "name": "stdout",
     "output_type": "stream",
     "text": [
      "Summary epoch:\n",
      " - Train loss: 0.2622, accu: 0.9979\n",
      " - Valid loss: 0.3196, accu: 0.9648\n",
      "0.98828125\n"
     ]
    },
    {
     "name": "stderr",
     "output_type": "stream",
     "text": [
      "\n"
     ]
    },
    {
     "name": "stdout",
     "output_type": "stream",
     "text": [
      "Epoch 99/99\n"
     ]
    },
    {
     "name": "stderr",
     "output_type": "stream",
     "text": [
      "train: 100%|██████████| 30/30 [00:00<00:00, 219.72it/s,  loss: 0.2749, accu: 1.0000]\n",
      "valid: 100%|██████████| 8/8 [00:00<00:00, 469.67it/s,  loss: 0.3653, accu: 1.0000]"
     ]
    },
    {
     "name": "stdout",
     "output_type": "stream",
     "text": [
      "Summary epoch:\n",
      " - Train loss: 0.2622, accu: 0.9979\n",
      " - Valid loss: 0.3128, accu: 0.9805\n",
      "0.98828125\n"
     ]
    },
    {
     "name": "stderr",
     "output_type": "stream",
     "text": [
      "\n"
     ]
    },
    {
     "name": "stdout",
     "output_type": "stream",
     "text": [
      "Evaluation.\n"
     ]
    },
    {
     "name": "stderr",
     "output_type": "stream",
     "text": [
      "eval:   0%|          | 0/8 [00:00<?, ?it/s]/home/egawa/anaconda3/envs/pt113/lib/python3.10/site-packages/torch/nn/modules/rnn.py:761: UserWarning: RNN module weights are not part of single contiguous chunk of memory. This means they need to be compacted at every call, possibly greatly increasing memory usage. To compact weights again call flatten_parameters(). (Triggered internally at  ../aten/src/ATen/native/cudnn/RNN.cpp:926.)\n",
      "  result = _VF.lstm(input, hx, self._flat_weights, self.bias, self.num_layers,\n",
      "eval: 100%|██████████| 8/8 [00:00<00:00, 397.72it/s, loss: 0.3641, accu: 1.0000]"
     ]
    },
    {
     "name": "stdout",
     "output_type": "stream",
     "text": [
      "Eval Loss 0.3208, Accu: 0.9883\n",
      "Precision: 0.9868995633187773\n",
      "Recall: 0.9868995633187773\n",
      "F1-score: 0.9868995633187773\n",
      "Specificity: 0.9951923076923077\n",
      "              precision    recall  f1-score   support\n",
      "\n",
      "           0    0.99043   0.99519   0.99281       208\n",
      "           1    0.95000   0.90476   0.92683        21\n",
      "\n",
      "    accuracy                        0.98690       229\n",
      "   macro avg    0.97022   0.94998   0.95982       229\n",
      "weighted avg    0.98672   0.98690   0.98676       229\n",
      "\n"
     ]
    },
    {
     "name": "stderr",
     "output_type": "stream",
     "text": [
      "\n"
     ]
    },
    {
     "data": {
      "image/png": "[encoded data removed]",
      "text/plain": [
       "<Figure size 640x480 with 2 Axes>"
      ]
     },
     "metadata": {},
     "output_type": "display_data"
    }
   ],
   "source": [
    "#run the code\n",
    "import os\n",
    "import time\n",
    "import torch\n",
    "import pickle\n",
    "import numpy as np\n",
    "import torch.nn.functional as F\n",
    "from shutil import copyfile\n",
    "from tqdm import tqdm\n",
    "from torch.utils import data\n",
    "from torch.optim.adadelta import Adadelta\n",
    "from sklearn.model_selection import train_test_split\n",
    "\n",
    "from sklearn.metrics import precision_score\n",
    "from sklearn.metrics import recall_score\n",
    "from sklearn.metrics import f1_score\n",
    "from sklearn.metrics import classification_report\n",
    "from sklearn import metrics\n",
    "\n",
    "import copy\n",
    "import seaborn as sns\n",
    "from sklearn.metrics import confusion_matrix\n",
    "\n",
    "import matplotlib.pyplot as plt\n",
    "\n",
    "torch.autograd.set_detect_anomaly(False)\n",
    "#二分割できる（訓練用とテスト用）\n",
    "\n",
    "#from pose_utils import motions_map\n",
    "import sys\n",
    "sys.path.append(\"../\")\n",
    "# from Actionsrecognition.Models import *\n",
    "\n",
    "import pandas as pd\n",
    "save_folder = 'saved/GSTCAN_UR_sensor'\n",
    "\n",
    "#device = 'cuda'\n",
    "if torch.cuda.is_available():\n",
    "    device = torch.device(\"cuda\")\n",
    "else:\n",
    "    device = torch.device(\"cpu\")\n",
    "\n",
    "print(\"using\", device, \"device\")\n",
    "\n",
    "epochs = 100\n",
    "batch_size = 32 #32\n",
    "\n",
    "# DATA FILES.\n",
    "# Should be in format of\n",
    "#  inputs: (N_samples, time_steps, graph_node, channels),\n",
    "#  labels: (N_samples, num_class)\n",
    "#   and do some of normalizations on it. Default data create from:\n",
    "#       Data.create_dataset_(1-3).py\n",
    "# where\n",
    "#   time_steps: Number of frame input sequence, Default: 30\n",
    "#   graph_node: Number of node in skeleton, Default: 14\n",
    "#   channels: Inputs data (x, y and scores), Default: 3\n",
    "#   num_class: Number of pose class to train, Default: 7\n",
    "\n",
    "data_files = ['../Data/ur_fall_sensor_2cl_new-set(labelXscrw).pkl']\n",
    "\n",
    "class_names = ['Fall','No_fall']\n",
    "# num_class = len(class_names)\n",
    "\n",
    "\n",
    "def accuracy_batch(y_pred, y_true):\n",
    "    return (y_pred.argmax(1) == y_true.argmax(1)).mean()\n",
    "\n",
    "\n",
    "def set_training(model, mode=True):\n",
    "    for p in model.parameters():\n",
    "        p.requires_grad = mode\n",
    "    model.train(mode)\n",
    "    return model\n",
    "\n",
    "\n",
    "if __name__ == '__main__':\n",
    "    \n",
    "    #save_folder = os.path.join(os.path.dirname(), save_folder)\n",
    "    if not os.path.exists(save_folder):\n",
    "        os.makedirs(save_folder)\n",
    "    # print('Start')\n",
    "\n",
    "    # DATA.\n",
    "    train_loader, valid_loader = load_dataset_v2(data_files[0:1], batch_size,split_size=0.2) \n",
    "    \n",
    "    dataloader = {'train': train_loader, 'valid': valid_loader, }\n",
    "    \n",
    "    #print(train_loader.shape)\n",
    "    \n",
    "    # MODEL.(list化)\n",
    "    graph_args = {'strategy': 'spatial'}\n",
    "    ## for sensor data\n",
    "    # model = BiLSTM(input_size=4,hidden_size=64,num_layers=1,dropout_prob=0.3,num_classes=2,feature=\"mean\").to(device)\n",
    "    model = CNN_BiLSTM(hidden_size=16,num_layers=1,dropout_prob=0.3,num_classes=2,feature=\"mean\").to(device)\n",
    "    # model = TwoStreamSpatialTemporalGraph(graph_args, 2).to(device)\n",
    "    n_parameters = sum(p.numel() for p in model.parameters() if p.requires_grad)\n",
    "    print(f\"number of params: {n_parameters}\")\n",
    "    # model = TwoStreamSpatialTemporalGraph(graph_args, 2).to(device)\n",
    "    # graph_args = {'strategy': 'uniform'}\n",
    "    #graph_args = {'strategy': 'distance'}\n",
    "    # print(\"err\")\n",
    "    #model = TwoStreamSpatialTemporalGraph(graph_args, num_class).to(device)\n",
    "    #model = TwoStreamSpatialTemporalGraph(graph_args, 8).to(device)\n",
    "    optimizer = torch.optim.RMSprop(model.parameters(), lr=0.001)\n",
    "    \n",
    "    \n",
    "    # losser = torch.nn.BCELoss() #fall or no_fall\n",
    "    losser = torch.nn.CrossEntropyLoss()\n",
    "\n",
    "    # TRAINING.\n",
    "    loss_list = {'train': [], 'valid': []}\n",
    "    accu_list = {'train': [], 'valid': []}\n",
    "    best_acc = -1\n",
    "    for e in range(epochs):\n",
    "        print('Epoch {}/{}'.format(e, epochs - 1))\n",
    "        for phase in ['train', 'valid']:\n",
    "            if phase == 'train':\n",
    "                model = set_training(model, True)\n",
    "            else:\n",
    "                model = set_training(model, False)\n",
    "\n",
    "            run_loss = 0.0\n",
    "            run_accu = 0.0\n",
    "            with tqdm(dataloader[phase], desc=phase) as iterator:\n",
    "                for info in iterator:\n",
    "                    # print(len(info))\n",
    "                    pts, ser, lbs = info\n",
    "                    # print(torch.any(torch.isnan(pts)))\n",
    "                    # Create motion input by distance of points (x, y) of the same node\n",
    "                    # in two frames.\n",
    "                    #print(\"err\")\n",
    "                    mot = pts[:, :2, 1:, :] - pts[:, :2, :-1, :]\n",
    "                    \n",
    "                    mot = mot.to(device)\n",
    "                    pts = pts.to(device)\n",
    "                    ser = ser.to(device)\n",
    "                    # print(ser.size())torch.Size([32, 30, 4])\n",
    "                    lbs = lbs.to(device)\n",
    "                    \n",
    "                    #print(pts.size())torch.Size([32, 3, 30, 14])\n",
    "                    #print(mot.size())torch.Size([32, 2, 29, 14])\n",
    "                    \n",
    "                    # Forward.\n",
    "                    # out = model((pts, mot))#タプル型\n",
    "                    out = model(ser) # for sensor data\n",
    "                    \n",
    "                    # out = stgcn_sensor_model((pts, mot,ser))\n",
    "                    \n",
    "                    #out = model(mot)#タプル型\n",
    "                    # print(lbs)\n",
    "\n",
    "                    # print(out)\n",
    "                    loss = losser(out, lbs)\n",
    "                    #print(\"err\")\n",
    "                    if phase == 'train':\n",
    "                        # Backward.\n",
    "                        model.zero_grad()\n",
    "                        loss.backward()\n",
    "                        optimizer.step()\n",
    "\n",
    "                    run_loss += loss.item()\n",
    "                    accu = accuracy_batch(out.detach().cpu().numpy(),\n",
    "                                          lbs.detach().cpu().numpy())\n",
    "                    run_accu += accu\n",
    "\n",
    "                    iterator.set_postfix_str(' loss: {:.4f}, accu: {:.4f}'.format(\n",
    "                        loss.item(), accu))\n",
    "                    iterator.update()\n",
    "                    #break\n",
    "            loss_list[phase].append(run_loss / len(iterator))\n",
    "            accu_list[phase].append(run_accu / len(iterator))\n",
    "            #print(accu_list)\n",
    "            #print(torch.max(accu_list))\n",
    "        if(best_acc < accu_list['valid'][-1]):\n",
    "            best_acc = accu_list['valid'][-1]\n",
    "            best_model = copy.deepcopy(model)\n",
    "            torch.save(model.state_dict(), os.path.join(save_folder, 'tsstg-model_best.pth'))\n",
    "            #break\n",
    "\n",
    "        print('Summary epoch:\\n - Train loss: {:.4f}, accu: {:.4f}\\n - Valid loss:'\n",
    "        ' {:.4f}, accu: {:.4f}'.format(loss_list['train'][-1], accu_list['train'][-1],\n",
    "        loss_list['valid'][-1], accu_list['valid'][-1]))\n",
    "        print(best_acc)\n",
    "        plt.figure()\n",
    "        plt.plot(list(range(len(loss_list['train']))),loss_list['train'],label=\"train_loss\")\n",
    "        plt.plot(list(range(len(loss_list['valid']))),loss_list['valid'],label=\"valid_loss\")\n",
    "        plt.legend()\n",
    "        plt.savefig(os.path.join(save_folder, f'musa-model_of_loss_report_ur.png'))\n",
    "        plt.clf()\n",
    "        plt.close()\n",
    "        \n",
    "        plt.figure()\n",
    "        plt.plot(list(range(len(accu_list['train']))),accu_list['train'],label=\"train_acc\")\n",
    "        plt.plot(list(range(len(accu_list['valid']))),accu_list['valid'],label=\"valid_acc\")\n",
    "        plt.legend()\n",
    "        plt.savefig(os.path.join(save_folder, f'musa-model_of_acc_report.png'))\n",
    "        plt.clf()\n",
    "        plt.close()\n",
    "        df = pd.DataFrame([loss_list['train'],loss_list['valid']]) \n",
    "        df.to_csv(os.path.join(save_folder, f'musa-model_of_acc_report.csv'))\n",
    "                  \n",
    "        df = pd.DataFrame([accu_list['train'],accu_list['valid']])\n",
    "        df.to_csv(os.path.join(save_folder, f'musa-model_of_accu_report.csv'))\n",
    "        torch.save(best_model.state_dict(), os.path.join(save_folder, f'musa-model_of_{best_acc:.4f}_UR.pth'))\n",
    "\n",
    "        # SAVE.\n",
    "        '''\n",
    "        if(best_acc < accu_list['valid'][-1]):\n",
    "            best_acc = accu_list['valid'][-1]\n",
    "            torch.save(model.state_dict(), os.path.join(save_folder, 'tsstg-model_best.pth'))\n",
    "            '''\n",
    "        '''\n",
    "        plot_graphs(list(loss_list.values()), list(loss_list.keys()),\n",
    "                        'Last Train: {:.2f}, Valid: {:.2f}'.format(\n",
    "                            loss_list['train'][-1], loss_list['valid'][-1]\n",
    "                        ), 'Loss', xlim=[0, epochs],\n",
    "                        save=os.path.join(save_folder, 'loss_graph.png'))\n",
    "        plot_graphs(list(accu_list.values()), list(accu_list.keys()),\n",
    "                        'Last Train: {:.2f}, Valid: {:.2f}'.format(\n",
    "                            accu_list['train'][-1], accu_list['valid'][-1]\n",
    "                        ), 'Accu', xlim=[0, epochs],\n",
    "                        save=os.path.join(save_folder, 'accu_graph.png'))\n",
    "        '''\n",
    "            #break\n",
    "\n",
    "    del train_loader, valid_loader\n",
    "\n",
    "    #model.load_state_dict(torch.load(os.path.join(save_folder, 'tsstg-model.pth',map_location=torch.device('cpu'))))\n",
    "    model.load_state_dict(torch.load(os.path.join(save_folder, 'tsstg-model_best.pth')))\n",
    "    # EVALUATION.\n",
    "    #URのときは全部コメント\n",
    "    # model = set_training(model, False)\n",
    "    # data_file = data_files[1]\n",
    "    # eval_loader, _ = load_dataset([data_file], 32)\n",
    "    \n",
    "    print('Evaluation.')\n",
    "    run_loss = 0.0\n",
    "    run_accu = 0.0\n",
    "    y_preds = []\n",
    "    y_trues = []\n",
    "    model = best_model\n",
    "    #with tqdm(eval_loader, desc='eval') as iterator:\n",
    "    #URFD\n",
    "    with tqdm(dataloader[phase], desc='eval') as iterator:\n",
    "        for pts,ser, lbs in iterator:\n",
    "            # print(lbs)\n",
    "            mot = pts[:, :2, 1:, :] - pts[:, :2, :-1, :]\n",
    "            mot = mot.to(device)\n",
    "            pts = pts.to(device)\n",
    "            ser = ser.to(device)\n",
    "            lbs = lbs.to(device)\n",
    "\n",
    "            # out = model((pts, mot)) # for skeleton data\n",
    "            out = model(ser) # for sensor data\n",
    "            #out = model(mot)################\n",
    "            loss = losser(out, lbs)\n",
    "\n",
    "            run_loss += loss.item()\n",
    "            accu = accuracy_batch(out.detach().cpu().numpy(),\n",
    "                                  lbs.detach().cpu().numpy())\n",
    "            run_accu += accu\n",
    "\n",
    "            y_preds.extend(out.argmax(1).detach().cpu().numpy())\n",
    "            y_trues.extend(lbs.argmax(1).cpu().numpy())\n",
    "\n",
    "            iterator.set_postfix_str('loss: {:.4f}, accu: {:.4f}'.format(\n",
    "                loss.item(), accu))\n",
    "            iterator.update()\n",
    "\n",
    "    run_loss = run_loss / len(iterator)\n",
    "    run_accu = run_accu / len(iterator)\n",
    "    print('Eval Loss {:.4f}, Accu: {:.4f}'.format(run_loss, run_accu))\n",
    "    print('Precision:', precision_score(y_trues, y_preds,average='micro'))\n",
    "    print('Recall:', recall_score(y_trues, y_preds,average='micro'))\n",
    "    print('F1-score:', f1_score(y_trues, y_preds,average='micro'))\n",
    "    tn, fp, fn, tp = metrics.confusion_matrix(y_trues, y_preds).ravel()\n",
    "    specificity  = tn / (tn + fp)\n",
    "    print('Specificity:', specificity)\n",
    "    print(classification_report(y_trues, y_preds,digits=5))\n",
    "    report=classification_report(y_trues,  y_preds, digits=5,output_dict=True)\n",
    "    report_df = pd.DataFrame(report).T\n",
    "    report_df.to_csv(os.path.join(save_folder, f'musa-model_of_{run_accu:.4f}_report.csv'))\n",
    "\n",
    "    cmx_data = confusion_matrix(y_trues, y_preds)\n",
    "\n",
    "    df_cmx = pd.DataFrame(cmx_data)\n",
    "\n",
    "    plt.figure()\n",
    "    sns.heatmap(df_cmx, annot=True)\n",
    "    plt.savefig(os.path.join(save_folder, f'musa-model_ofs_confution_matrix.png'))\n"
   ]
  },
  {
   "cell_type": "code",
   "execution_count": null,
   "id": "d2182e94-9098-4695-bbe4-fb08dca700b1",
   "metadata": {},
   "outputs": [],
   "source": [
    "print(phase)Classification_Module"
   ]
  },
  {
   "cell_type": "code",
   "execution_count": null,
   "id": "b968bdda-17ee-4890-a6da-7696a116332d",
   "metadata": {},
   "outputs": [],
   "source": [
    "\n",
    "train_loader, _ = load_dataset(data_files[0:1], batch_size) #batch_size = 32\n",
    "\n",
    "valid_loader, train_loader_ = load_dataset(data_files[:1], batch_size, 0.2)\n",
    "#print(\"err\")\n",
    "train_loader = data.DataLoader(data.ConcatDataset([train_loader.dataset, train_loader_.dataset]),\n",
    "                               batch_size, shuffle=True)\n",
    "dataloader = {'train': train_loader, 'valid': valid_loader}"
   ]
  },
  {
   "cell_type": "code",
   "execution_count": null,
   "id": "60102b09-09ed-436b-a786-b0f5307fddc2",
   "metadata": {},
   "outputs": [],
   "source": [
    " with tqdm(dataloader[phase], desc='eval') as iterator:\n",
    "        for pts, lbs in iterator:\n",
    "            mot = pts[:, :2, 1:, :] - pts[:, :2, :-1, :]\n",
    "            print(mot.shape)\n",
    "            print(lbs)\n",
    "            break\n"
   ]
  },
  {
   "cell_type": "code",
   "execution_count": null,
   "id": "e64b285d-a9a1-4aba-bdfb-7e642ace17a4",
   "metadata": {},
   "outputs": [],
   "source": [
    "import os.path\n",
    "\n",
    "print(\"__file__:{}\".format(os.path.dirname(__file__)))\n",
    "print(\"dirname :{}\".format(os.path.dirname(__file__)))\n",
    "print(\"basename:{}\".format(os.path.basename(__file__)))\n",
    "print(\"files   :{}\".format(os.listdir(os.path.dirname(__file__))))"
   ]
  },
  {
   "cell_type": "code",
   "execution_count": null,
   "id": "11c15c1b-ef62-4ef7-94ff-c73f2776332a",
   "metadata": {},
   "outputs": [],
   "source": []
  }
 ],
 "metadata": {
  "kernelspec": {
   "display_name": "pt113",
   "language": "python",
   "name": "pt113"
  },
  "language_info": {
   "codemirror_mode": {
    "name": "ipython",
    "version": 3
   },
   "file_extension": ".py",
   "mimetype": "text/x-python",
   "name": "python",
   "nbconvert_exporter": "python",
   "pygments_lexer": "ipython3",
   "version": "3.10.9"
  }
 },
 "nbformat": 4,
 "nbformat_minor": 5
}
